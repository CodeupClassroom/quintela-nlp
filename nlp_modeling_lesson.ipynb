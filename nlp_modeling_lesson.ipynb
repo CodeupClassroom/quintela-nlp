{
 "cells": [
  {
   "cell_type": "markdown",
   "id": "712bd79d",
   "metadata": {},
   "source": [
    "# NLP Modeling\n",
    "\n",
    "How do we quantify a document?\n",
    "\n",
    "- [Setup](#setup)\n",
    "- [Data Representation](#data-representation)\n",
    "    - [Bag of Words](#bag-of-words)\n",
    "    - [TF-IDF](#tf-idf)\n",
    "    - [Bag Of Ngrams](#bag-of-ngrams)\n",
    "- [Modeling](#modeling)\n",
    "    - [Modeling Results](#modeling-results)\n",
    "- [Next Steps](#next-steps)\n",
    "\n",
    "## Setup"
   ]
  },
  {
   "cell_type": "code",
   "execution_count": 1,
   "id": "77207323",
   "metadata": {},
   "outputs": [],
   "source": [
    "from pprint import pprint\n",
    "\n",
    "import numpy as np\n",
    "import pandas as pd\n",
    "\n",
    "import matplotlib.pyplot as plt\n",
    "\n",
    "import nltk\n",
    "import re\n",
    "\n",
    "def clean(text: str) -> list:\n",
    "    'A simple function to cleanup text data'\n",
    "    wnl = nltk.stem.WordNetLemmatizer()\n",
    "    stopwords = set(nltk.corpus.stopwords.words('english'))\n",
    "    text = (text.encode('ascii', 'ignore')\n",
    "             .decode('utf-8', 'ignore')\n",
    "             .lower())\n",
    "    words = re.sub(r'[^\\w\\s]', '', text).split() # tokenization\n",
    "    return [wnl.lemmatize(word) for word in words if word not in stopwords]"
   ]
  },
  {
   "cell_type": "markdown",
   "id": "05d09b64",
   "metadata": {},
   "source": [
    "## Data Representation\n",
    "\n",
    "Simple data for demonstration."
   ]
  },
  {
   "cell_type": "code",
   "execution_count": 2,
   "id": "c0b4c644",
   "metadata": {},
   "outputs": [],
   "source": [
    "data = [\n",
    "    'Python is pretty cool',\n",
    "    'Python is a nice programming language with nice syntax',\n",
    "    'I think SQL is cool too',\n",
    "]"
   ]
  },
  {
   "cell_type": "code",
   "execution_count": 3,
   "id": "c5f6aacc-9184-491f-903f-0c499eb9aa7b",
   "metadata": {},
   "outputs": [
    {
     "name": "stdout",
     "output_type": "stream",
     "text": [
      "['Python is pretty cool',\n",
      " 'Python is a nice programming language with nice syntax',\n",
      " 'I think SQL is cool too']\n"
     ]
    }
   ],
   "source": [
    "pprint(data)"
   ]
  },
  {
   "cell_type": "markdown",
   "id": "76fdb030",
   "metadata": {},
   "source": [
    "### Bag of Words"
   ]
  },
  {
   "cell_type": "code",
   "execution_count": 4,
   "id": "778facc4",
   "metadata": {},
   "outputs": [],
   "source": [
    "from sklearn.feature_extraction.text import CountVectorizer\n",
    "\n",
    "# same basic process as any sklearn transformation:\n",
    "# make the thing\n",
    "cv = CountVectorizer()\n",
    "# use the thing\n",
    "bag_of_words = cv.fit_transform(data)"
   ]
  },
  {
   "cell_type": "code",
   "execution_count": 5,
   "id": "3c180146",
   "metadata": {},
   "outputs": [
    {
     "data": {
      "text/plain": [
       "<3x12 sparse matrix of type '<class 'numpy.int64'>'\n",
       "\twith 16 stored elements in Compressed Sparse Row format>"
      ]
     },
     "execution_count": 5,
     "metadata": {},
     "output_type": "execute_result"
    }
   ],
   "source": [
    "bag_of_words"
   ]
  },
  {
   "cell_type": "code",
   "execution_count": 6,
   "id": "c94d1562-8e64-48a9-a811-2094ea381fe7",
   "metadata": {},
   "outputs": [
    {
     "data": {
      "text/plain": [
       "['Python is pretty cool',\n",
       " 'Python is a nice programming language with nice syntax',\n",
       " 'I think SQL is cool too']"
      ]
     },
     "execution_count": 6,
     "metadata": {},
     "output_type": "execute_result"
    }
   ],
   "source": [
    "data"
   ]
  },
  {
   "cell_type": "code",
   "execution_count": 7,
   "id": "9c2721c0-901a-4639-8081-c7a76ff48bce",
   "metadata": {},
   "outputs": [
    {
     "data": {
      "text/plain": [
       "matrix([[1, 1, 0, 0, 1, 0, 1, 0, 0, 0, 0, 0],\n",
       "        [0, 1, 1, 2, 0, 1, 1, 0, 1, 0, 0, 1],\n",
       "        [1, 1, 0, 0, 0, 0, 0, 1, 0, 1, 1, 0]])"
      ]
     },
     "execution_count": 7,
     "metadata": {},
     "output_type": "execute_result"
    }
   ],
   "source": [
    "bag_of_words.todense()"
   ]
  },
  {
   "cell_type": "markdown",
   "id": "d8f97319",
   "metadata": {},
   "source": [
    "Here `bag_of_words` is a **sparse matrix**. Usually you should keep it as such,\n",
    "but for demonstration we'll view the data within."
   ]
  },
  {
   "cell_type": "code",
   "execution_count": 8,
   "id": "eef31e3a-5eeb-4394-89ad-8a190f2cd6d2",
   "metadata": {},
   "outputs": [
    {
     "data": {
      "text/plain": [
       "array(['cool', 'is', 'language', 'nice', 'pretty', 'programming',\n",
       "       'python', 'sql', 'syntax', 'think', 'too', 'with'], dtype=object)"
      ]
     },
     "execution_count": 8,
     "metadata": {},
     "output_type": "execute_result"
    }
   ],
   "source": [
    "cv.get_feature_names_out()"
   ]
  },
  {
   "cell_type": "code",
   "execution_count": 9,
   "id": "21ccdb7a-45f6-49e4-82b2-55d880b9b7d1",
   "metadata": {},
   "outputs": [
    {
     "data": {
      "text/plain": [
       "{'python': 6,\n",
       " 'is': 1,\n",
       " 'pretty': 4,\n",
       " 'cool': 0,\n",
       " 'nice': 3,\n",
       " 'programming': 5,\n",
       " 'language': 2,\n",
       " 'with': 11,\n",
       " 'syntax': 8,\n",
       " 'think': 9,\n",
       " 'sql': 7,\n",
       " 'too': 10}"
      ]
     },
     "execution_count": 9,
     "metadata": {},
     "output_type": "execute_result"
    }
   ],
   "source": [
    "cv.vocabulary_"
   ]
  },
  {
   "cell_type": "code",
   "execution_count": 10,
   "id": "290cc53c",
   "metadata": {},
   "outputs": [],
   "source": [
    "# Taking a look at the bag of words transformation for education and diagnostics.\n",
    "# In practice this is not necesssary and the resulting data might be to big to be reasonably helpful.\n",
    "bow = pd.DataFrame(bag_of_words.todense())\n",
    "bow.columns = cv.get_feature_names_out()"
   ]
  },
  {
   "cell_type": "code",
   "execution_count": 11,
   "id": "b57df8b8",
   "metadata": {},
   "outputs": [
    {
     "data": {
      "text/plain": [
       "['Python is pretty cool',\n",
       " 'Python is a nice programming language with nice syntax',\n",
       " 'I think SQL is cool too']"
      ]
     },
     "execution_count": 11,
     "metadata": {},
     "output_type": "execute_result"
    }
   ],
   "source": [
    "data"
   ]
  },
  {
   "cell_type": "code",
   "execution_count": 12,
   "id": "6f8425d9-61a0-4e2f-9b60-03668ae00266",
   "metadata": {},
   "outputs": [
    {
     "data": {
      "text/html": [
       "<div>\n",
       "<style scoped>\n",
       "    .dataframe tbody tr th:only-of-type {\n",
       "        vertical-align: middle;\n",
       "    }\n",
       "\n",
       "    .dataframe tbody tr th {\n",
       "        vertical-align: top;\n",
       "    }\n",
       "\n",
       "    .dataframe thead th {\n",
       "        text-align: right;\n",
       "    }\n",
       "</style>\n",
       "<table border=\"1\" class=\"dataframe\">\n",
       "  <thead>\n",
       "    <tr style=\"text-align: right;\">\n",
       "      <th></th>\n",
       "      <th>cool</th>\n",
       "      <th>is</th>\n",
       "      <th>language</th>\n",
       "      <th>nice</th>\n",
       "      <th>pretty</th>\n",
       "      <th>programming</th>\n",
       "      <th>python</th>\n",
       "      <th>sql</th>\n",
       "      <th>syntax</th>\n",
       "      <th>think</th>\n",
       "      <th>too</th>\n",
       "      <th>with</th>\n",
       "    </tr>\n",
       "  </thead>\n",
       "  <tbody>\n",
       "    <tr>\n",
       "      <th>0</th>\n",
       "      <td>1</td>\n",
       "      <td>1</td>\n",
       "      <td>0</td>\n",
       "      <td>0</td>\n",
       "      <td>1</td>\n",
       "      <td>0</td>\n",
       "      <td>1</td>\n",
       "      <td>0</td>\n",
       "      <td>0</td>\n",
       "      <td>0</td>\n",
       "      <td>0</td>\n",
       "      <td>0</td>\n",
       "    </tr>\n",
       "    <tr>\n",
       "      <th>1</th>\n",
       "      <td>0</td>\n",
       "      <td>1</td>\n",
       "      <td>1</td>\n",
       "      <td>2</td>\n",
       "      <td>0</td>\n",
       "      <td>1</td>\n",
       "      <td>1</td>\n",
       "      <td>0</td>\n",
       "      <td>1</td>\n",
       "      <td>0</td>\n",
       "      <td>0</td>\n",
       "      <td>1</td>\n",
       "    </tr>\n",
       "    <tr>\n",
       "      <th>2</th>\n",
       "      <td>1</td>\n",
       "      <td>1</td>\n",
       "      <td>0</td>\n",
       "      <td>0</td>\n",
       "      <td>0</td>\n",
       "      <td>0</td>\n",
       "      <td>0</td>\n",
       "      <td>1</td>\n",
       "      <td>0</td>\n",
       "      <td>1</td>\n",
       "      <td>1</td>\n",
       "      <td>0</td>\n",
       "    </tr>\n",
       "  </tbody>\n",
       "</table>\n",
       "</div>"
      ],
      "text/plain": [
       "   cool  is  language  nice  pretty  programming  python  sql  syntax  think  \\\n",
       "0     1   1         0     0       1            0       1    0       0      0   \n",
       "1     0   1         1     2       0            1       1    0       1      0   \n",
       "2     1   1         0     0       0            0       0    1       0      1   \n",
       "\n",
       "   too  with  \n",
       "0    0     0  \n",
       "1    0     1  \n",
       "2    1     0  "
      ]
     },
     "execution_count": 12,
     "metadata": {},
     "output_type": "execute_result"
    }
   ],
   "source": [
    "bow"
   ]
  },
  {
   "cell_type": "code",
   "execution_count": 13,
   "id": "bd18b2f9-5491-48fb-a9d0-068632bcff9e",
   "metadata": {},
   "outputs": [
    {
     "name": "stdout",
     "output_type": "stream",
     "text": [
      "['Python is pretty cool',\n",
      " 'Python is a nice programming language with nice syntax',\n",
      " 'I think SQL is cool too']\n"
     ]
    }
   ],
   "source": [
    "pprint(data)"
   ]
  },
  {
   "cell_type": "code",
   "execution_count": 14,
   "id": "8cec51f4-37f4-44e9-81a2-46784fa6ab98",
   "metadata": {
    "scrolled": true
   },
   "outputs": [
    {
     "data": {
      "text/html": [
       "<div>\n",
       "<style scoped>\n",
       "    .dataframe tbody tr th:only-of-type {\n",
       "        vertical-align: middle;\n",
       "    }\n",
       "\n",
       "    .dataframe tbody tr th {\n",
       "        vertical-align: top;\n",
       "    }\n",
       "\n",
       "    .dataframe thead th {\n",
       "        text-align: right;\n",
       "    }\n",
       "</style>\n",
       "<table border=\"1\" class=\"dataframe\">\n",
       "  <thead>\n",
       "    <tr style=\"text-align: right;\">\n",
       "      <th></th>\n",
       "      <th>cool</th>\n",
       "      <th>is</th>\n",
       "      <th>language</th>\n",
       "      <th>nice</th>\n",
       "      <th>pretty</th>\n",
       "      <th>programming</th>\n",
       "      <th>python</th>\n",
       "      <th>sql</th>\n",
       "      <th>syntax</th>\n",
       "      <th>think</th>\n",
       "      <th>too</th>\n",
       "      <th>with</th>\n",
       "    </tr>\n",
       "  </thead>\n",
       "  <tbody>\n",
       "    <tr>\n",
       "      <th>0</th>\n",
       "      <td>0.25</td>\n",
       "      <td>0.250</td>\n",
       "      <td>0.000</td>\n",
       "      <td>0.00</td>\n",
       "      <td>0.25</td>\n",
       "      <td>0.000</td>\n",
       "      <td>0.250</td>\n",
       "      <td>0.0</td>\n",
       "      <td>0.000</td>\n",
       "      <td>0.0</td>\n",
       "      <td>0.0</td>\n",
       "      <td>0.000</td>\n",
       "    </tr>\n",
       "    <tr>\n",
       "      <th>1</th>\n",
       "      <td>0.00</td>\n",
       "      <td>0.125</td>\n",
       "      <td>0.125</td>\n",
       "      <td>0.25</td>\n",
       "      <td>0.00</td>\n",
       "      <td>0.125</td>\n",
       "      <td>0.125</td>\n",
       "      <td>0.0</td>\n",
       "      <td>0.125</td>\n",
       "      <td>0.0</td>\n",
       "      <td>0.0</td>\n",
       "      <td>0.125</td>\n",
       "    </tr>\n",
       "    <tr>\n",
       "      <th>2</th>\n",
       "      <td>0.20</td>\n",
       "      <td>0.200</td>\n",
       "      <td>0.000</td>\n",
       "      <td>0.00</td>\n",
       "      <td>0.00</td>\n",
       "      <td>0.000</td>\n",
       "      <td>0.000</td>\n",
       "      <td>0.2</td>\n",
       "      <td>0.000</td>\n",
       "      <td>0.2</td>\n",
       "      <td>0.2</td>\n",
       "      <td>0.000</td>\n",
       "    </tr>\n",
       "  </tbody>\n",
       "</table>\n",
       "</div>"
      ],
      "text/plain": [
       "   cool     is  language  nice  pretty  programming  python  sql  syntax  \\\n",
       "0  0.25  0.250     0.000  0.00    0.25        0.000   0.250  0.0   0.000   \n",
       "1  0.00  0.125     0.125  0.25    0.00        0.125   0.125  0.0   0.125   \n",
       "2  0.20  0.200     0.000  0.00    0.00        0.000   0.000  0.2   0.000   \n",
       "\n",
       "   think  too   with  \n",
       "0    0.0  0.0  0.000  \n",
       "1    0.0  0.0  0.125  \n",
       "2    0.2  0.2  0.000  "
      ]
     },
     "execution_count": 14,
     "metadata": {},
     "output_type": "execute_result"
    }
   ],
   "source": [
    "bow.apply(lambda row: row / row.sum(), axis=1)"
   ]
  },
  {
   "cell_type": "markdown",
   "id": "e929f4ac",
   "metadata": {},
   "source": [
    "### TF-IDF\n",
    "\n",
    "- term frequency - inverse document frequency\n",
    "\n",
    "The TF-IDF equation is given by:\n",
    "\\begin{equation}\n",
    "\\text{TF-IDF}(\\text{term, document}) = \\text{TF}(\\text{term, document}) \\times \\text{IDF}(\\text{term})\n",
    "\\end{equation}\n",
    "\n",
    "Where the equation for TF is:\n",
    "\\begin{align*}\n",
    "\\text{TF}(\\text{term, document}) &= \\frac{\\text{Number of times the term appears in the document}}{\\text{Total number of terms in the document}}\n",
    "\\end{align*}\n",
    "and the equation for IDF is:\n",
    "\\begin{align*}\n",
    "\\text{IDF}(\\text{term}) &= \\log\\left(\\frac{\\text{Total number of documents}}{\\text{Number of documents containing the term}}\\right)\n",
    "\\end{align*}\n",
    "\n",
    "- a measure that helps identify how important a word is in a document\n",
    "- combination of how often a word appears in a document (**tf**) and how unqiue the word\n",
    "  is among documents (**idf**)\n",
    "- used by search engines\n",
    "- naturally helps filter out stopwords\n",
    "- tf is for a single document, idf is for a corpus"
   ]
  },
  {
   "cell_type": "markdown",
   "id": "74202608",
   "metadata": {},
   "source": [
    "#### TF"
   ]
  },
  {
   "cell_type": "code",
   "execution_count": 15,
   "id": "c3145321",
   "metadata": {},
   "outputs": [
    {
     "data": {
      "text/plain": [
       "Text(0.5, 1.0, 'TF for a given term in a document')"
      ]
     },
     "execution_count": 15,
     "metadata": {},
     "output_type": "execute_result"
    },
    {
     "data": {
      "image/png": "[encoded data removed]",
      "text/plain": [
       "<Figure size 432x288 with 1 Axes>"
      ]
     },
     "metadata": {
      "needs_background": "light"
     },
     "output_type": "display_data"
    }
   ],
   "source": [
    "n_words = 10\n",
    "\n",
    "x = np.arange(1, n_words + 1)\n",
    "y = x / n_words\n",
    "\n",
    "plt.plot(x, y, marker='.')\n",
    "\n",
    "plt.xlabel('# of time the word appears in document')\n",
    "plt.ylabel('TF')\n",
    "plt.title('TF for a given term in a document')"
   ]
  },
  {
   "cell_type": "markdown",
   "id": "b58e8ab7",
   "metadata": {},
   "source": [
    "#### IDF"
   ]
  },
  {
   "cell_type": "code",
   "execution_count": 16,
   "id": "89aac45d",
   "metadata": {},
   "outputs": [
    {
     "data": {
      "text/plain": [
       "Text(0.5, 1.0, 'IDF for a given word')"
      ]
     },
     "execution_count": 16,
     "metadata": {},
     "output_type": "execute_result"
    },
    {
     "data": {
      "image/png": "[encoded data removed]",
      "text/plain": [
       "<Figure size 432x288 with 1 Axes>"
      ]
     },
     "metadata": {
      "needs_background": "light"
     },
     "output_type": "display_data"
    }
   ],
   "source": [
    "n_documents = 20\n",
    "\n",
    "x = np.arange(1, n_documents + 1)\n",
    "y = np.log(n_documents / x)\n",
    "\n",
    "plt.plot(x, y, marker='.')\n",
    "\n",
    "plt.xticks(x)\n",
    "plt.xlabel('# of Documents the word appears in')\n",
    "plt.ylabel('IDF')\n",
    "plt.title('IDF for a given word')"
   ]
  },
  {
   "cell_type": "code",
   "execution_count": 25,
   "id": "3c634645",
   "metadata": {},
   "outputs": [
    {
     "name": "stdout",
     "output_type": "stream",
     "text": [
      "['Python is pretty cool',\n",
      " 'Python is a nice programming language with nice syntax',\n",
      " 'I think SQL is cool too']\n"
     ]
    },
    {
     "data": {
      "text/html": [
       "<div>\n",
       "<style scoped>\n",
       "    .dataframe tbody tr th:only-of-type {\n",
       "        vertical-align: middle;\n",
       "    }\n",
       "\n",
       "    .dataframe tbody tr th {\n",
       "        vertical-align: top;\n",
       "    }\n",
       "\n",
       "    .dataframe thead th {\n",
       "        text-align: right;\n",
       "    }\n",
       "</style>\n",
       "<table border=\"1\" class=\"dataframe\">\n",
       "  <thead>\n",
       "    <tr style=\"text-align: right;\">\n",
       "      <th></th>\n",
       "      <th>cool</th>\n",
       "      <th>is</th>\n",
       "      <th>language</th>\n",
       "      <th>nice</th>\n",
       "      <th>pretty</th>\n",
       "      <th>programming</th>\n",
       "      <th>python</th>\n",
       "      <th>sql</th>\n",
       "      <th>syntax</th>\n",
       "      <th>think</th>\n",
       "      <th>too</th>\n",
       "      <th>with</th>\n",
       "    </tr>\n",
       "  </thead>\n",
       "  <tbody>\n",
       "    <tr>\n",
       "      <th>0</th>\n",
       "      <td>0.480458</td>\n",
       "      <td>0.373119</td>\n",
       "      <td>0.000000</td>\n",
       "      <td>0.000000</td>\n",
       "      <td>0.631745</td>\n",
       "      <td>0.000000</td>\n",
       "      <td>0.480458</td>\n",
       "      <td>0.000000</td>\n",
       "      <td>0.000000</td>\n",
       "      <td>0.000000</td>\n",
       "      <td>0.000000</td>\n",
       "      <td>0.000000</td>\n",
       "    </tr>\n",
       "    <tr>\n",
       "      <th>1</th>\n",
       "      <td>0.000000</td>\n",
       "      <td>0.197673</td>\n",
       "      <td>0.334689</td>\n",
       "      <td>0.669378</td>\n",
       "      <td>0.000000</td>\n",
       "      <td>0.334689</td>\n",
       "      <td>0.254540</td>\n",
       "      <td>0.000000</td>\n",
       "      <td>0.334689</td>\n",
       "      <td>0.000000</td>\n",
       "      <td>0.000000</td>\n",
       "      <td>0.334689</td>\n",
       "    </tr>\n",
       "    <tr>\n",
       "      <th>2</th>\n",
       "      <td>0.383770</td>\n",
       "      <td>0.298032</td>\n",
       "      <td>0.000000</td>\n",
       "      <td>0.000000</td>\n",
       "      <td>0.000000</td>\n",
       "      <td>0.000000</td>\n",
       "      <td>0.000000</td>\n",
       "      <td>0.504611</td>\n",
       "      <td>0.000000</td>\n",
       "      <td>0.504611</td>\n",
       "      <td>0.504611</td>\n",
       "      <td>0.000000</td>\n",
       "    </tr>\n",
       "  </tbody>\n",
       "</table>\n",
       "</div>"
      ],
      "text/plain": [
       "       cool        is  language      nice    pretty  programming    python  \\\n",
       "0  0.480458  0.373119  0.000000  0.000000  0.631745     0.000000  0.480458   \n",
       "1  0.000000  0.197673  0.334689  0.669378  0.000000     0.334689  0.254540   \n",
       "2  0.383770  0.298032  0.000000  0.000000  0.000000     0.000000  0.000000   \n",
       "\n",
       "        sql    syntax     think       too      with  \n",
       "0  0.000000  0.000000  0.000000  0.000000  0.000000  \n",
       "1  0.000000  0.334689  0.000000  0.000000  0.334689  \n",
       "2  0.504611  0.000000  0.504611  0.504611  0.000000  "
      ]
     },
     "execution_count": 25,
     "metadata": {},
     "output_type": "execute_result"
    }
   ],
   "source": [
    "from sklearn.feature_extraction.text import TfidfVectorizer\n",
    "\n",
    "tfidf = TfidfVectorizer()\n",
    "bag_of_words = tfidf.fit_transform(data)\n",
    "pprint(data)\n",
    "tfidf_df = pd.DataFrame(bag_of_words.todense(), \n",
    "             columns=tfidf.get_feature_names_out())\n",
    "\n",
    "tfidf_df"
   ]
  },
  {
   "cell_type": "markdown",
   "id": "f879a6e4",
   "metadata": {},
   "source": [
    "To get the idf score for each word (these aren't terribly usefule themselves):"
   ]
  },
  {
   "cell_type": "code",
   "execution_count": 19,
   "id": "e73321fc",
   "metadata": {},
   "outputs": [],
   "source": [
    "# zip: put these two things of the same length together\n",
    "# dict: turn those two associated things into a k: v pair\n",
    "# pd.Series: turn those keys into indeces, and the values into values\n",
    "ex_idf = pd.Series(\n",
    "    dict(\n",
    "        zip(\n",
    "            tfidf.get_feature_names_out(), tfidf.idf_\n",
    "        )\n",
    "    )\n",
    ")"
   ]
  },
  {
   "cell_type": "code",
   "execution_count": 26,
   "id": "e300fc5d",
   "metadata": {},
   "outputs": [
    {
     "data": {
      "text/plain": [
       "['python',\n",
       " 'language',\n",
       " 'nice',\n",
       " 'pretty',\n",
       " 'programming',\n",
       " 'sql',\n",
       " 'syntax',\n",
       " 'think']"
      ]
     },
     "execution_count": 26,
     "metadata": {},
     "output_type": "execute_result"
    }
   ],
   "source": [
    "col_to_keep = ex_idf.sort_values()[2:-2].index.tolist()\n",
    "col_to_keep"
   ]
  },
  {
   "cell_type": "code",
   "execution_count": 27,
   "id": "f78b295f",
   "metadata": {},
   "outputs": [
    {
     "data": {
      "text/html": [
       "<div>\n",
       "<style scoped>\n",
       "    .dataframe tbody tr th:only-of-type {\n",
       "        vertical-align: middle;\n",
       "    }\n",
       "\n",
       "    .dataframe tbody tr th {\n",
       "        vertical-align: top;\n",
       "    }\n",
       "\n",
       "    .dataframe thead th {\n",
       "        text-align: right;\n",
       "    }\n",
       "</style>\n",
       "<table border=\"1\" class=\"dataframe\">\n",
       "  <thead>\n",
       "    <tr style=\"text-align: right;\">\n",
       "      <th></th>\n",
       "      <th>python</th>\n",
       "      <th>language</th>\n",
       "      <th>nice</th>\n",
       "      <th>pretty</th>\n",
       "      <th>programming</th>\n",
       "      <th>sql</th>\n",
       "      <th>syntax</th>\n",
       "      <th>think</th>\n",
       "    </tr>\n",
       "  </thead>\n",
       "  <tbody>\n",
       "    <tr>\n",
       "      <th>0</th>\n",
       "      <td>0.480458</td>\n",
       "      <td>0.000000</td>\n",
       "      <td>0.000000</td>\n",
       "      <td>0.631745</td>\n",
       "      <td>0.000000</td>\n",
       "      <td>0.000000</td>\n",
       "      <td>0.000000</td>\n",
       "      <td>0.000000</td>\n",
       "    </tr>\n",
       "    <tr>\n",
       "      <th>1</th>\n",
       "      <td>0.254540</td>\n",
       "      <td>0.334689</td>\n",
       "      <td>0.669378</td>\n",
       "      <td>0.000000</td>\n",
       "      <td>0.334689</td>\n",
       "      <td>0.000000</td>\n",
       "      <td>0.334689</td>\n",
       "      <td>0.000000</td>\n",
       "    </tr>\n",
       "    <tr>\n",
       "      <th>2</th>\n",
       "      <td>0.000000</td>\n",
       "      <td>0.000000</td>\n",
       "      <td>0.000000</td>\n",
       "      <td>0.000000</td>\n",
       "      <td>0.000000</td>\n",
       "      <td>0.504611</td>\n",
       "      <td>0.000000</td>\n",
       "      <td>0.504611</td>\n",
       "    </tr>\n",
       "  </tbody>\n",
       "</table>\n",
       "</div>"
      ],
      "text/plain": [
       "     python  language      nice    pretty  programming       sql    syntax  \\\n",
       "0  0.480458  0.000000  0.000000  0.631745     0.000000  0.000000  0.000000   \n",
       "1  0.254540  0.334689  0.669378  0.000000     0.334689  0.000000  0.334689   \n",
       "2  0.000000  0.000000  0.000000  0.000000     0.000000  0.504611  0.000000   \n",
       "\n",
       "      think  \n",
       "0  0.000000  \n",
       "1  0.000000  \n",
       "2  0.504611  "
      ]
     },
     "execution_count": 27,
     "metadata": {},
     "output_type": "execute_result"
    }
   ],
   "source": [
    "tfidf_df[col_to_keep]"
   ]
  },
  {
   "cell_type": "markdown",
   "id": "a26ba50b",
   "metadata": {},
   "source": [
    "### Bag Of Ngrams\n",
    "\n",
    "For either `CountVectorizer` or `TfidfVectorizer`, you can set the `ngram_range`\n",
    "parameter."
   ]
  },
  {
   "cell_type": "code",
   "execution_count": 28,
   "id": "f90e430d-9eb0-4293-9e85-f523c127e768",
   "metadata": {},
   "outputs": [],
   "source": [
    "cv = CountVectorizer(ngram_range=(2, 3))\n",
    "bag_of_grams = cv.fit_transform(data)"
   ]
  },
  {
   "cell_type": "code",
   "execution_count": 29,
   "id": "4d1f2356-9c73-4d34-abdd-561c0086ce58",
   "metadata": {},
   "outputs": [
    {
     "name": "stdout",
     "output_type": "stream",
     "text": [
      "['Python is pretty cool',\n",
      " 'Python is a nice programming language with nice syntax',\n",
      " 'I think SQL is cool too']\n"
     ]
    }
   ],
   "source": [
    "pprint(data)"
   ]
  },
  {
   "cell_type": "code",
   "execution_count": 30,
   "id": "c31e94f7-d34b-460a-88e1-8b61680cc7c5",
   "metadata": {},
   "outputs": [
    {
     "data": {
      "text/html": [
       "<div>\n",
       "<style scoped>\n",
       "    .dataframe tbody tr th:only-of-type {\n",
       "        vertical-align: middle;\n",
       "    }\n",
       "\n",
       "    .dataframe tbody tr th {\n",
       "        vertical-align: top;\n",
       "    }\n",
       "\n",
       "    .dataframe thead th {\n",
       "        text-align: right;\n",
       "    }\n",
       "</style>\n",
       "<table border=\"1\" class=\"dataframe\">\n",
       "  <thead>\n",
       "    <tr style=\"text-align: right;\">\n",
       "      <th></th>\n",
       "      <th>cool too</th>\n",
       "      <th>is cool</th>\n",
       "      <th>is cool too</th>\n",
       "      <th>is nice</th>\n",
       "      <th>is nice programming</th>\n",
       "      <th>is pretty</th>\n",
       "      <th>is pretty cool</th>\n",
       "      <th>language with</th>\n",
       "      <th>language with nice</th>\n",
       "      <th>nice programming</th>\n",
       "      <th>...</th>\n",
       "      <th>programming language with</th>\n",
       "      <th>python is</th>\n",
       "      <th>python is nice</th>\n",
       "      <th>python is pretty</th>\n",
       "      <th>sql is</th>\n",
       "      <th>sql is cool</th>\n",
       "      <th>think sql</th>\n",
       "      <th>think sql is</th>\n",
       "      <th>with nice</th>\n",
       "      <th>with nice syntax</th>\n",
       "    </tr>\n",
       "  </thead>\n",
       "  <tbody>\n",
       "    <tr>\n",
       "      <th>0</th>\n",
       "      <td>0</td>\n",
       "      <td>0</td>\n",
       "      <td>0</td>\n",
       "      <td>0</td>\n",
       "      <td>0</td>\n",
       "      <td>1</td>\n",
       "      <td>1</td>\n",
       "      <td>0</td>\n",
       "      <td>0</td>\n",
       "      <td>0</td>\n",
       "      <td>...</td>\n",
       "      <td>0</td>\n",
       "      <td>1</td>\n",
       "      <td>0</td>\n",
       "      <td>1</td>\n",
       "      <td>0</td>\n",
       "      <td>0</td>\n",
       "      <td>0</td>\n",
       "      <td>0</td>\n",
       "      <td>0</td>\n",
       "      <td>0</td>\n",
       "    </tr>\n",
       "    <tr>\n",
       "      <th>1</th>\n",
       "      <td>0</td>\n",
       "      <td>0</td>\n",
       "      <td>0</td>\n",
       "      <td>1</td>\n",
       "      <td>1</td>\n",
       "      <td>0</td>\n",
       "      <td>0</td>\n",
       "      <td>1</td>\n",
       "      <td>1</td>\n",
       "      <td>1</td>\n",
       "      <td>...</td>\n",
       "      <td>1</td>\n",
       "      <td>1</td>\n",
       "      <td>1</td>\n",
       "      <td>0</td>\n",
       "      <td>0</td>\n",
       "      <td>0</td>\n",
       "      <td>0</td>\n",
       "      <td>0</td>\n",
       "      <td>1</td>\n",
       "      <td>1</td>\n",
       "    </tr>\n",
       "    <tr>\n",
       "      <th>2</th>\n",
       "      <td>1</td>\n",
       "      <td>1</td>\n",
       "      <td>1</td>\n",
       "      <td>0</td>\n",
       "      <td>0</td>\n",
       "      <td>0</td>\n",
       "      <td>0</td>\n",
       "      <td>0</td>\n",
       "      <td>0</td>\n",
       "      <td>0</td>\n",
       "      <td>...</td>\n",
       "      <td>0</td>\n",
       "      <td>0</td>\n",
       "      <td>0</td>\n",
       "      <td>0</td>\n",
       "      <td>1</td>\n",
       "      <td>1</td>\n",
       "      <td>1</td>\n",
       "      <td>1</td>\n",
       "      <td>0</td>\n",
       "      <td>0</td>\n",
       "    </tr>\n",
       "  </tbody>\n",
       "</table>\n",
       "<p>3 rows × 24 columns</p>\n",
       "</div>"
      ],
      "text/plain": [
       "   cool too  is cool  is cool too  is nice  is nice programming  is pretty  \\\n",
       "0         0        0            0        0                    0          1   \n",
       "1         0        0            0        1                    1          0   \n",
       "2         1        1            1        0                    0          0   \n",
       "\n",
       "   is pretty cool  language with  language with nice  nice programming  ...  \\\n",
       "0               1              0                   0                 0  ...   \n",
       "1               0              1                   1                 1  ...   \n",
       "2               0              0                   0                 0  ...   \n",
       "\n",
       "   programming language with  python is  python is nice  python is pretty  \\\n",
       "0                          0          1               0                 1   \n",
       "1                          1          1               1                 0   \n",
       "2                          0          0               0                 0   \n",
       "\n",
       "   sql is  sql is cool  think sql  think sql is  with nice  with nice syntax  \n",
       "0       0            0          0             0          0                 0  \n",
       "1       0            0          0             0          1                 1  \n",
       "2       1            1          1             1          0                 0  \n",
       "\n",
       "[3 rows x 24 columns]"
      ]
     },
     "execution_count": 30,
     "metadata": {},
     "output_type": "execute_result"
    }
   ],
   "source": [
    "pd.DataFrame(bag_of_grams.todense(),\n",
    "            columns=cv.get_feature_names_out())"
   ]
  },
  {
   "cell_type": "markdown",
   "id": "12896c9b",
   "metadata": {},
   "source": [
    "## Modeling"
   ]
  },
  {
   "cell_type": "code",
   "execution_count": 31,
   "id": "9d5172aa-73a8-459a-a3bd-68309de6a148",
   "metadata": {},
   "outputs": [
    {
     "data": {
      "text/html": [
       "<div>\n",
       "<style scoped>\n",
       "    .dataframe tbody tr th:only-of-type {\n",
       "        vertical-align: middle;\n",
       "    }\n",
       "\n",
       "    .dataframe tbody tr th {\n",
       "        vertical-align: top;\n",
       "    }\n",
       "\n",
       "    .dataframe thead th {\n",
       "        text-align: right;\n",
       "    }\n",
       "</style>\n",
       "<table border=\"1\" class=\"dataframe\">\n",
       "  <thead>\n",
       "    <tr style=\"text-align: right;\">\n",
       "      <th></th>\n",
       "      <th>id</th>\n",
       "      <th>label</th>\n",
       "      <th>text</th>\n",
       "    </tr>\n",
       "  </thead>\n",
       "  <tbody>\n",
       "    <tr>\n",
       "      <th>0</th>\n",
       "      <td>0</td>\n",
       "      <td>ham</td>\n",
       "      <td>Go until jurong point, crazy.. Available only ...</td>\n",
       "    </tr>\n",
       "    <tr>\n",
       "      <th>1</th>\n",
       "      <td>1</td>\n",
       "      <td>ham</td>\n",
       "      <td>Ok lar... Joking wif u oni...</td>\n",
       "    </tr>\n",
       "    <tr>\n",
       "      <th>2</th>\n",
       "      <td>2</td>\n",
       "      <td>spam</td>\n",
       "      <td>Free entry in 2 a wkly comp to win FA Cup fina...</td>\n",
       "    </tr>\n",
       "    <tr>\n",
       "      <th>3</th>\n",
       "      <td>3</td>\n",
       "      <td>ham</td>\n",
       "      <td>U dun say so early hor... U c already then say...</td>\n",
       "    </tr>\n",
       "    <tr>\n",
       "      <th>4</th>\n",
       "      <td>4</td>\n",
       "      <td>ham</td>\n",
       "      <td>Nah I don't think he goes to usf, he lives aro...</td>\n",
       "    </tr>\n",
       "    <tr>\n",
       "      <th>...</th>\n",
       "      <td>...</td>\n",
       "      <td>...</td>\n",
       "      <td>...</td>\n",
       "    </tr>\n",
       "    <tr>\n",
       "      <th>5567</th>\n",
       "      <td>5567</td>\n",
       "      <td>spam</td>\n",
       "      <td>This is the 2nd time we have tried 2 contact u...</td>\n",
       "    </tr>\n",
       "    <tr>\n",
       "      <th>5568</th>\n",
       "      <td>5568</td>\n",
       "      <td>ham</td>\n",
       "      <td>Will Ì_ b going to esplanade fr home?</td>\n",
       "    </tr>\n",
       "    <tr>\n",
       "      <th>5569</th>\n",
       "      <td>5569</td>\n",
       "      <td>ham</td>\n",
       "      <td>Pity, * was in mood for that. So...any other s...</td>\n",
       "    </tr>\n",
       "    <tr>\n",
       "      <th>5570</th>\n",
       "      <td>5570</td>\n",
       "      <td>ham</td>\n",
       "      <td>The guy did some bitching but I acted like i'd...</td>\n",
       "    </tr>\n",
       "    <tr>\n",
       "      <th>5571</th>\n",
       "      <td>5571</td>\n",
       "      <td>ham</td>\n",
       "      <td>Rofl. Its true to its name</td>\n",
       "    </tr>\n",
       "  </tbody>\n",
       "</table>\n",
       "<p>5572 rows × 3 columns</p>\n",
       "</div>"
      ],
      "text/plain": [
       "        id label                                               text\n",
       "0        0   ham  Go until jurong point, crazy.. Available only ...\n",
       "1        1   ham                      Ok lar... Joking wif u oni...\n",
       "2        2  spam  Free entry in 2 a wkly comp to win FA Cup fina...\n",
       "3        3   ham  U dun say so early hor... U c already then say...\n",
       "4        4   ham  Nah I don't think he goes to usf, he lives aro...\n",
       "...    ...   ...                                                ...\n",
       "5567  5567  spam  This is the 2nd time we have tried 2 contact u...\n",
       "5568  5568   ham              Will Ì_ b going to esplanade fr home?\n",
       "5569  5569   ham  Pity, * was in mood for that. So...any other s...\n",
       "5570  5570   ham  The guy did some bitching but I acted like i'd...\n",
       "5571  5571   ham                         Rofl. Its true to its name\n",
       "\n",
       "[5572 rows x 3 columns]"
      ]
     },
     "execution_count": 31,
     "metadata": {},
     "output_type": "execute_result"
    }
   ],
   "source": [
    "from env import get_db_url\n",
    "from sklearn.model_selection import train_test_split\n",
    "from sklearn.tree import DecisionTreeClassifier\n",
    "\n",
    "url = get_db_url('spam_db')\n",
    "df = pd.read_sql('SELECT * FROM spam', url)\n",
    "df"
   ]
  },
  {
   "cell_type": "code",
   "execution_count": 32,
   "id": "cf120ec4-c689-4e01-bd68-919c1a439e7f",
   "metadata": {},
   "outputs": [],
   "source": [
    "df['clean_text'] = df.text.apply(clean).apply(' '.join)"
   ]
  },
  {
   "cell_type": "code",
   "execution_count": 33,
   "id": "2122b2ce-48e8-415c-ae87-d211b219d7f8",
   "metadata": {},
   "outputs": [
    {
     "data": {
      "text/html": [
       "<div>\n",
       "<style scoped>\n",
       "    .dataframe tbody tr th:only-of-type {\n",
       "        vertical-align: middle;\n",
       "    }\n",
       "\n",
       "    .dataframe tbody tr th {\n",
       "        vertical-align: top;\n",
       "    }\n",
       "\n",
       "    .dataframe thead th {\n",
       "        text-align: right;\n",
       "    }\n",
       "</style>\n",
       "<table border=\"1\" class=\"dataframe\">\n",
       "  <thead>\n",
       "    <tr style=\"text-align: right;\">\n",
       "      <th></th>\n",
       "      <th>id</th>\n",
       "      <th>label</th>\n",
       "      <th>text</th>\n",
       "      <th>clean_text</th>\n",
       "    </tr>\n",
       "  </thead>\n",
       "  <tbody>\n",
       "    <tr>\n",
       "      <th>0</th>\n",
       "      <td>0</td>\n",
       "      <td>ham</td>\n",
       "      <td>Go until jurong point, crazy.. Available only ...</td>\n",
       "      <td>go jurong point crazy available bugis n great ...</td>\n",
       "    </tr>\n",
       "    <tr>\n",
       "      <th>1</th>\n",
       "      <td>1</td>\n",
       "      <td>ham</td>\n",
       "      <td>Ok lar... Joking wif u oni...</td>\n",
       "      <td>ok lar joking wif u oni</td>\n",
       "    </tr>\n",
       "    <tr>\n",
       "      <th>2</th>\n",
       "      <td>2</td>\n",
       "      <td>spam</td>\n",
       "      <td>Free entry in 2 a wkly comp to win FA Cup fina...</td>\n",
       "      <td>free entry 2 wkly comp win fa cup final tkts 2...</td>\n",
       "    </tr>\n",
       "    <tr>\n",
       "      <th>3</th>\n",
       "      <td>3</td>\n",
       "      <td>ham</td>\n",
       "      <td>U dun say so early hor... U c already then say...</td>\n",
       "      <td>u dun say early hor u c already say</td>\n",
       "    </tr>\n",
       "    <tr>\n",
       "      <th>4</th>\n",
       "      <td>4</td>\n",
       "      <td>ham</td>\n",
       "      <td>Nah I don't think he goes to usf, he lives aro...</td>\n",
       "      <td>nah dont think go usf life around though</td>\n",
       "    </tr>\n",
       "    <tr>\n",
       "      <th>...</th>\n",
       "      <td>...</td>\n",
       "      <td>...</td>\n",
       "      <td>...</td>\n",
       "      <td>...</td>\n",
       "    </tr>\n",
       "    <tr>\n",
       "      <th>5567</th>\n",
       "      <td>5567</td>\n",
       "      <td>spam</td>\n",
       "      <td>This is the 2nd time we have tried 2 contact u...</td>\n",
       "      <td>2nd time tried 2 contact u u 750 pound prize 2...</td>\n",
       "    </tr>\n",
       "    <tr>\n",
       "      <th>5568</th>\n",
       "      <td>5568</td>\n",
       "      <td>ham</td>\n",
       "      <td>Will Ì_ b going to esplanade fr home?</td>\n",
       "      <td>_ b going esplanade fr home</td>\n",
       "    </tr>\n",
       "    <tr>\n",
       "      <th>5569</th>\n",
       "      <td>5569</td>\n",
       "      <td>ham</td>\n",
       "      <td>Pity, * was in mood for that. So...any other s...</td>\n",
       "      <td>pity mood soany suggestion</td>\n",
       "    </tr>\n",
       "    <tr>\n",
       "      <th>5570</th>\n",
       "      <td>5570</td>\n",
       "      <td>ham</td>\n",
       "      <td>The guy did some bitching but I acted like i'd...</td>\n",
       "      <td>guy bitching acted like id interested buying s...</td>\n",
       "    </tr>\n",
       "    <tr>\n",
       "      <th>5571</th>\n",
       "      <td>5571</td>\n",
       "      <td>ham</td>\n",
       "      <td>Rofl. Its true to its name</td>\n",
       "      <td>rofl true name</td>\n",
       "    </tr>\n",
       "  </tbody>\n",
       "</table>\n",
       "<p>5572 rows × 4 columns</p>\n",
       "</div>"
      ],
      "text/plain": [
       "        id label                                               text  \\\n",
       "0        0   ham  Go until jurong point, crazy.. Available only ...   \n",
       "1        1   ham                      Ok lar... Joking wif u oni...   \n",
       "2        2  spam  Free entry in 2 a wkly comp to win FA Cup fina...   \n",
       "3        3   ham  U dun say so early hor... U c already then say...   \n",
       "4        4   ham  Nah I don't think he goes to usf, he lives aro...   \n",
       "...    ...   ...                                                ...   \n",
       "5567  5567  spam  This is the 2nd time we have tried 2 contact u...   \n",
       "5568  5568   ham              Will Ì_ b going to esplanade fr home?   \n",
       "5569  5569   ham  Pity, * was in mood for that. So...any other s...   \n",
       "5570  5570   ham  The guy did some bitching but I acted like i'd...   \n",
       "5571  5571   ham                         Rofl. Its true to its name   \n",
       "\n",
       "                                             clean_text  \n",
       "0     go jurong point crazy available bugis n great ...  \n",
       "1                               ok lar joking wif u oni  \n",
       "2     free entry 2 wkly comp win fa cup final tkts 2...  \n",
       "3                   u dun say early hor u c already say  \n",
       "4              nah dont think go usf life around though  \n",
       "...                                                 ...  \n",
       "5567  2nd time tried 2 contact u u 750 pound prize 2...  \n",
       "5568                        _ b going esplanade fr home  \n",
       "5569                         pity mood soany suggestion  \n",
       "5570  guy bitching acted like id interested buying s...  \n",
       "5571                                     rofl true name  \n",
       "\n",
       "[5572 rows x 4 columns]"
      ]
     },
     "execution_count": 33,
     "metadata": {},
     "output_type": "execute_result"
    }
   ],
   "source": [
    "df"
   ]
  },
  {
   "cell_type": "code",
   "execution_count": 34,
   "id": "d67213d4-839f-454f-acb4-83fc6f1ca2b4",
   "metadata": {},
   "outputs": [],
   "source": [
    "X = df.clean_text\n",
    "y = df.label\n",
    "X_train, X_test, y_train, y_test = \\\n",
    "train_test_split(X, y, \n",
    "                 test_size=0.2, \n",
    "                 random_state=1349)"
   ]
  },
  {
   "cell_type": "code",
   "execution_count": 35,
   "id": "c7243917-b1a4-49c2-a87b-889e2e704a08",
   "metadata": {},
   "outputs": [
    {
     "data": {
      "text/plain": [
       "2302                        make baby yo tho\n",
       "4304                     yo come carlos soon\n",
       "4925    oh yes like torture watching england\n",
       "1753     jus came back fr lunch wif si u leh\n",
       "3211                    got divorce lol shes\n",
       "Name: clean_text, dtype: object"
      ]
     },
     "execution_count": 35,
     "metadata": {},
     "output_type": "execute_result"
    }
   ],
   "source": [
    "X_train.head()"
   ]
  },
  {
   "cell_type": "code",
   "execution_count": 36,
   "id": "32deec1e-9786-4349-b0d5-f87f6e066133",
   "metadata": {},
   "outputs": [
    {
     "data": {
      "text/plain": [
       "2302    ham\n",
       "4304    ham\n",
       "4925    ham\n",
       "1753    ham\n",
       "3211    ham\n",
       "Name: label, dtype: object"
      ]
     },
     "execution_count": 36,
     "metadata": {},
     "output_type": "execute_result"
    }
   ],
   "source": [
    "y_train.head()"
   ]
  },
  {
   "cell_type": "markdown",
   "id": "f5725ba1-404a-4e83-a419-6ca83f929092",
   "metadata": {},
   "source": [
    "Iterate:\n",
    "\n",
    "- try out the bag of ngrams\n",
    "- try out different ways of text prep (stem vs lemmatize)\n",
    "- etc..."
   ]
  },
  {
   "cell_type": "code",
   "execution_count": 37,
   "id": "d68c63cf",
   "metadata": {},
   "outputs": [
    {
     "data": {
      "text/plain": [
       "0.923939869867624"
      ]
     },
     "execution_count": 37,
     "metadata": {},
     "output_type": "execute_result"
    }
   ],
   "source": [
    "# Whatever transformations we apply to X_train need to be applied to X_test\n",
    "cv = CountVectorizer()\n",
    "X_bow = cv.fit_transform(X_train)\n",
    "tree = DecisionTreeClassifier(max_depth=3)\n",
    "tree.fit(X_bow, y_train)\n",
    "tree.score(X_bow, y_train)"
   ]
  },
  {
   "cell_type": "code",
   "execution_count": 38,
   "id": "7e8bcd2f",
   "metadata": {},
   "outputs": [
    {
     "data": {
      "text/plain": [
       "0.9076233183856502"
      ]
     },
     "execution_count": 38,
     "metadata": {},
     "output_type": "execute_result"
    }
   ],
   "source": [
    "# as with any other sklearn transformation, \n",
    "# transform only on our validate and/or test, \n",
    "# only fit on train\n",
    "X_test_bow = cv.transform(X_test)\n",
    "tree.score(X_test_bow, y_test)"
   ]
  },
  {
   "cell_type": "code",
   "execution_count": 40,
   "id": "c9fddd9a",
   "metadata": {},
   "outputs": [
    {
     "data": {
      "text/plain": [
       "ham     0.871438\n",
       "spam    0.128562\n",
       "Name: label, dtype: float64"
      ]
     },
     "execution_count": 40,
     "metadata": {},
     "output_type": "execute_result"
    }
   ],
   "source": [
    "y_train.value_counts(normalize=True)"
   ]
  },
  {
   "cell_type": "markdown",
   "id": "780da33c",
   "metadata": {},
   "source": [
    "### Modeling Results\n",
    "\n",
    "A super-useful feature of decision trees and linear models is that they do some\n",
    "built-in feature selection through the coefficeints or feature importances:"
   ]
  },
  {
   "cell_type": "code",
   "execution_count": 41,
   "id": "7da113a2",
   "metadata": {
    "scrolled": false
   },
   "outputs": [
    {
     "data": {
      "text/plain": [
       "call     0.434467\n",
       "txt      0.328833\n",
       "text     0.107392\n",
       "later    0.076804\n",
       "im       0.045085\n",
       "dtype: float64"
      ]
     },
     "execution_count": 41,
     "metadata": {},
     "output_type": "execute_result"
    }
   ],
   "source": [
    "pd.Series(\n",
    "    dict(\n",
    "    zip(cv.get_feature_names_out(), \n",
    "    tree.feature_importances_))).sort_values(ascending=False).head()"
   ]
  },
  {
   "cell_type": "markdown",
   "id": "a3e11613",
   "metadata": {},
   "source": [
    "## Next Steps\n",
    "\n",
    "- Try other model types\n",
    "\n",
    "    [Naive Bayes](https://en.wikipedia.org/wiki/Naive_Bayes_classifier)\n",
    "    ([`sklearn`\n",
    "    docs](https://scikit-learn.org/stable/modules/generated/sklearn.naive_bayes.MultinomialNB.html))\n",
    "    is a very popular classifier for NLP tasks.\n",
    "\n",
    "- Look at other metrics, is accuracy the best choice here?\n",
    "\n",
    "- Try ngrams instead of single words\n",
    "\n",
    "- Try a combination of ngrams and words (`ngram_range=(1, 2)` for words and\n",
    "  bigrams)\n",
    "\n",
    "- Try using tf-idf instead of bag of words\n",
    "\n",
    "- Combine the top `n` performing words with the other features that you have\n",
    "  engineered (the `CountVectorizer` and `TfidfVectorizer` have a `vocabulary`\n",
    "  argument you can use to restrict the words used)"
   ]
  }
 ],
 "metadata": {
  "jupytext": {
   "cell_metadata_filter": "-all",
   "main_language": "python",
   "notebook_metadata_filter": "-all"
  },
  "kernelspec": {
   "display_name": "Python 3 (ipykernel)",
   "language": "python",
   "name": "python3"
  },
  "language_info": {
   "codemirror_mode": {
    "name": "ipython",
    "version": 3
   },
   "file_extension": ".py",
   "mimetype": "text/x-python",
   "name": "python",
   "nbconvert_exporter": "python",
   "pygments_lexer": "ipython3",
   "version": "3.9.12"
  }
 },
 "nbformat": 4,
 "nbformat_minor": 5
}
