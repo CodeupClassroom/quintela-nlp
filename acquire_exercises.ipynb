{
 "cells": [
  {
   "cell_type": "markdown",
   "id": "df0041cd-12e5-437a-beec-db82be034b1a",
   "metadata": {},
   "source": [
    "# Data Acquisition \n",
    "\n",
    "## Imports"
   ]
  },
  {
   "cell_type": "code",
   "execution_count": 1,
   "id": "d980cdfc-640d-40d0-9fb8-e152d0333af3",
   "metadata": {},
   "outputs": [],
   "source": [
    "from requests import get\n",
    "from bs4 import BeautifulSoup\n",
    "import os\n",
    "import pandas as pd"
   ]
  },
  {
   "cell_type": "markdown",
   "id": "1807b132-84dc-4d3f-8383-91f0745cc386",
   "metadata": {},
   "source": [
    "## Codeup Blog Articles\n",
    "\n",
    "Visit Codeup's Blog and record the urls for at least 5 distinct blog posts. For each post, you should scrape at least the post's title and content.\n",
    "\n",
    "Encapsulate your work in a function named get_blog_articles that will return a list of dictionaries, with each dictionary representing one article. The shape of each dictionary should look like this:\n",
    "\n",
    "```python\n",
    "{\n",
    "    'title': 'the title of the article',\n",
    "    'content': 'the full text content of the article'\n",
    "}\n",
    "```\n",
    "\n",
    "Plus any additional properties you think might be helpful.\n",
    "\n"
   ]
  },
  {
   "cell_type": "code",
   "execution_count": 2,
   "id": "9a57ee98-f38b-462b-8c5e-a0638eb9f826",
   "metadata": {},
   "outputs": [],
   "source": [
    "url = 'https://codeup.edu/blog/'\n",
    "headers = {'User-Agent': 'Codeup Data Science'}\n",
    "response = get(url, headers=headers)"
   ]
  },
  {
   "cell_type": "code",
   "execution_count": 3,
   "id": "0cf58ea7-ab1c-41f3-9ac5-a407f14a6f69",
   "metadata": {},
   "outputs": [],
   "source": [
    "soup = BeautifulSoup(response.content, 'html.parser')"
   ]
  },
  {
   "cell_type": "markdown",
   "id": "c07e0ebb",
   "metadata": {},
   "source": [
    "### class='more-link' is one way to get access to each article link"
   ]
  },
  {
   "cell_type": "code",
   "execution_count": 4,
   "id": "1b29fc5c-3e20-4ccc-9171-41114b4d5283",
   "metadata": {
    "scrolled": true
   },
   "outputs": [
    {
     "data": {
      "text/plain": [
       "[<a class=\"more-link\" href=\"https://codeup.edu/featured/apida-heritage-month/\">read more</a>,\n",
       " <a class=\"more-link\" href=\"https://codeup.edu/featured/women-in-tech-panelist-spotlight/\">read more</a>,\n",
       " <a class=\"more-link\" href=\"https://codeup.edu/featured/women-in-tech-rachel-robbins-mayhill/\">read more</a>,\n",
       " <a class=\"more-link\" href=\"https://codeup.edu/codeup-news/women-in-tech-panelist-spotlight-sarah-mellor/\">read more</a>,\n",
       " <a class=\"more-link\" href=\"https://codeup.edu/events/women-in-tech-madeleine/\">read more</a>,\n",
       " <a class=\"more-link\" href=\"https://codeup.edu/codeup-news/panelist-spotlight-4/\">read more</a>]"
      ]
     },
     "execution_count": 4,
     "metadata": {},
     "output_type": "execute_result"
    }
   ],
   "source": [
    "soup.select('.more-link') #soup.find_all('a', class_='more-link')"
   ]
  },
  {
   "cell_type": "code",
   "execution_count": 5,
   "id": "127040c2-11b6-44d1-9721-dd34ccc84703",
   "metadata": {},
   "outputs": [
    {
     "data": {
      "text/plain": [
       "<a class=\"more-link\" href=\"https://codeup.edu/featured/apida-heritage-month/\">read more</a>"
      ]
     },
     "execution_count": 5,
     "metadata": {},
     "output_type": "execute_result"
    }
   ],
   "source": [
    "soup.select('.more-link')[0]"
   ]
  },
  {
   "cell_type": "code",
   "execution_count": 6,
   "id": "cf6b3fff-1ef7-461e-9398-198cdb192704",
   "metadata": {},
   "outputs": [
    {
     "data": {
      "text/plain": [
       "'https://codeup.edu/featured/apida-heritage-month/'"
      ]
     },
     "execution_count": 6,
     "metadata": {},
     "output_type": "execute_result"
    }
   ],
   "source": [
    "soup.select('.more-link')[0]['href']"
   ]
  },
  {
   "cell_type": "markdown",
   "id": "e866e66c-07ea-4bba-b6c6-903769771ec1",
   "metadata": {},
   "source": [
    "### List comprehension review"
   ]
  },
  {
   "cell_type": "code",
   "execution_count": 7,
   "id": "cc765b15-bd4d-4cb9-93d4-9acc7a7f3ad2",
   "metadata": {},
   "outputs": [
    {
     "data": {
      "text/plain": [
       "[1, 2, 3, 4, 5, 6, 7, 8, 9, 10]"
      ]
     },
     "execution_count": 7,
     "metadata": {},
     "output_type": "execute_result"
    }
   ],
   "source": [
    "[n for n in range(1, 11)]"
   ]
  },
  {
   "cell_type": "markdown",
   "id": "4c5a78f7-dea7-4b40-8999-38ddad472454",
   "metadata": {},
   "source": [
    "### Using list comprehension to get all the links out"
   ]
  },
  {
   "cell_type": "code",
   "execution_count": 8,
   "id": "a6a146c0-1ce6-4763-b8ec-3f477bcdbc38",
   "metadata": {},
   "outputs": [
    {
     "data": {
      "text/plain": [
       "['https://codeup.edu/featured/apida-heritage-month/',\n",
       " 'https://codeup.edu/featured/women-in-tech-panelist-spotlight/',\n",
       " 'https://codeup.edu/featured/women-in-tech-rachel-robbins-mayhill/',\n",
       " 'https://codeup.edu/codeup-news/women-in-tech-panelist-spotlight-sarah-mellor/',\n",
       " 'https://codeup.edu/events/women-in-tech-madeleine/',\n",
       " 'https://codeup.edu/codeup-news/panelist-spotlight-4/']"
      ]
     },
     "execution_count": 8,
     "metadata": {},
     "output_type": "execute_result"
    }
   ],
   "source": [
    "links = [link['href'] for link in soup.select('.more-link')]\n",
    "links"
   ]
  },
  {
   "cell_type": "markdown",
   "id": "617683ff-e87a-497a-8048-428a0aa46017",
   "metadata": {},
   "source": [
    "### Get title and content from article"
   ]
  },
  {
   "cell_type": "code",
   "execution_count": 9,
   "id": "070f08bb-6584-40b9-a2cd-bf64c23daa07",
   "metadata": {},
   "outputs": [],
   "source": [
    "url = links[0]\n",
    "response = get(url, headers=headers)\n",
    "soup = BeautifulSoup(response.text)"
   ]
  },
  {
   "cell_type": "code",
   "execution_count": 10,
   "id": "929b753f-e696-4722-a5f2-03f9d76cf9bd",
   "metadata": {},
   "outputs": [
    {
     "data": {
      "text/plain": [
       "'Spotlight on APIDA Voices: Celebrating Heritage and Inspiring Change ft. Arbeena Thapa'"
      ]
     },
     "execution_count": 10,
     "metadata": {},
     "output_type": "execute_result"
    }
   ],
   "source": [
    "soup.find('h1', class_='entry-title').text"
   ]
  },
  {
   "cell_type": "code",
   "execution_count": 11,
   "id": "8a73152e-5a3f-4c95-bf53-50c3b64ca837",
   "metadata": {},
   "outputs": [
    {
     "data": {
      "text/plain": [
       "'May is traditionally known as Asian American and Pacific Islander (AAPI) Heritage Month. This month we celebrate the history and contributions made possible by our AAPI friends, family, and community. We also examine our level of support and seek opportunities to better understand the AAPI community.\\n\\nIn an effort to address real concerns and experiences, we sat down with Arbeena Thapa, one of Codeup’s Financial Aid and Enrollment Managers.\\nArbeena identifies as Nepali American and Desi. Arbeena’s parents immigrated to Texas in 1988 for better employment and educational opportunities. Arbeena’s older sister was five when they made the move to the US. Arbeena was born later, becoming the first in her family to be a US citizen.\\nAt Codeup we take our efforts at inclusivity very seriously. After speaking with Arbeena, we were taught that the term AAPI excludes Desi-American individuals. Hence, we will now use the term Asian Pacific Islander Desi American (APIDA).\\nHere is how the rest of our conversation with Arbeena went!\\nHow do you celebrate or connect with your heritage and cultural traditions?\\n“I celebrate Nepal’s version of Christmas or Dashain. This is a nine-day celebration also known as Dussehra. I grew up as Hindu and I identify as Hindu, this is a very large part of my heritage. “\\n“Other ways I connect with my culture include sharing food! Momos are South Asian Dumplings and they’re my favorite to make and share.”\\n“On my Asian American side, I am an advocate of immigrant justice and erasure within APIDA social or political movements. I participate in events to embrace my identity such as immigrant justice advocacy because I come from a mixed-status family. I’ve always been in a community with undocumented Asian immigrants. .”\\nWhat are some of the challenges you have faced as an APIDA individual, personally or professionally?\\n“I often struggle with being gendered as compliant or a pushover. Professionally, I am often stereotyped as meek, so I’ve been overlooked for leadership roles. We are seen as perpetually foreign; people tend to other us in that way, yet put us on a pedestal for what a model minority looks like. This has made me hesitant to share my heritage in the past because these assumptions get mapped onto me. ”\\nCan you describe some common barriers of entry that APIDA individuals, specifically women may face when trying to enter or advance in the workplace?\\n“Being overlooked for leadership. In the past, I have not been viewed as a leader. People sometimes have preconceived stereotypes of Asian women not being able to be bold, or being vocal can be mistaken for being too emotional. “\\nHow do you believe microaggressions impact APIDA individuals in the workplace? Can you provide examples of such microaggressions?\\n“Erasure is big. To me, only saying ‘Merry Christmas’ isn’t inclusive to other religions. People are often resistant to saying ‘Happy Holidays,’ but saying Merry Christmas excludes, and does not appreciate my heritage. “\\n“Often microaggressions are not micro at all. They typically are not aggressive racialized violence, but the term ‘micro’ minimizes impact.”\\n“Some that I’ve heard are ‘What kind of Asian are you?’ or ‘Where are you from?’ This automatically makes me the ‘other’ and not seen as American. Even within the APIDA community, South Asians are overlooked as “Asian”.”\\nHow important is representation, specifically APIDA representation, in organizational leadership positions?\\n“I want to say that it is important to have someone who looks like you in leadership roles, and it is, but those leaders may not share the same beliefs as you. Certain privileges such as wealth, resources, or lack of interaction with lower-socioeconomic-status Asian Americans may cause a difference in community politics. I do not think the bamboo ceiling is acceptable, but the company you work for plays a big part in your politics and belief alignment.”\\nHow do you feel about code-switching, and have you ever felt it necessary to code-switch?\\n“I like sharing South Asian terms or connecting with others that have similar heritage and culture. A workplace that is welcoming to going into this sort of breakout is refreshing and makes space for us. However, having to code-switch could also mean a workplace that is not conducive and welcoming of other cultures. “\\nFinally, in your opinion, what long-term strategies can create lasting change in the workplace and ensure support, equality, and inclusion for APIDA individuals?\\n“Prior to a career in financial aid, I did a lot of research related to the post-9/11 immigration of the South Asian diaspora. This background made me heavily rely on grassroots organizing. Hire the people that want to innovate, hire the changemakers, hire the button-pushers. Reduce reliance on whiteness as change. This will become natural for the organization and become organizational change. Change comes from us on the ground.”\\nA huge thank you to Arbeena Thapa for sharing her experiences, and being vulnerable with us. Your words were inspiring and the opportunity to understand your perspective more has been valuable. We hope we can become better support for the APIDA community as we learn and grow on our journey of cultivating inclusive growth.'"
      ]
     },
     "execution_count": 11,
     "metadata": {},
     "output_type": "execute_result"
    }
   ],
   "source": [
    "soup.find('div', class_='entry-content').text.strip()"
   ]
  },
  {
   "cell_type": "markdown",
   "id": "6dd601ed-2f70-4954-87ed-58a1403537f3",
   "metadata": {},
   "source": [
    "### Put it together"
   ]
  },
  {
   "cell_type": "code",
   "execution_count": 12,
   "id": "c085cc2a-6419-4693-adea-d7c292dcbf62",
   "metadata": {},
   "outputs": [],
   "source": [
    "url = 'https://codeup.edu/blog/'\n",
    "headers = {'User-Agent': 'Codeup Data Science'}\n",
    "response = get(url, headers=headers)\n",
    "\n",
    "soup = BeautifulSoup(response.content, 'html.parser')\n",
    "\n",
    "links = [link['href'] for link in soup.select('.more-link')]\n",
    "\n",
    "articles = []\n",
    "\n",
    "for url in links:\n",
    "    \n",
    "    url_response = get(url, headers=headers)\n",
    "    soup = BeautifulSoup(url_response.text)\n",
    "    \n",
    "    title = soup.find('h1', class_='entry-title').text\n",
    "    content = soup.find('div', class_='entry-content').text.strip()\n",
    "    \n",
    "    article_dict = {\n",
    "        'title': title,\n",
    "        'content': content\n",
    "    }\n",
    "    \n",
    "    articles.append(article_dict)"
   ]
  },
  {
   "cell_type": "code",
   "execution_count": 13,
   "id": "71386668-2215-464e-8a94-8533ee0e0379",
   "metadata": {},
   "outputs": [
    {
     "data": {
      "text/plain": [
       "[{'title': 'Spotlight on APIDA Voices: Celebrating Heritage and Inspiring Change ft. Arbeena Thapa',\n",
       "  'content': 'May is traditionally known as Asian American and Pacific Islander (AAPI) Heritage Month. This month we celebrate the history and contributions made possible by our AAPI friends, family, and community. We also examine our level of support and seek opportunities to better understand the AAPI community.\\n\\nIn an effort to address real concerns and experiences, we sat down with Arbeena Thapa, one of Codeup’s Financial Aid and Enrollment Managers.\\nArbeena identifies as Nepali American and Desi. Arbeena’s parents immigrated to Texas in 1988 for better employment and educational opportunities. Arbeena’s older sister was five when they made the move to the US. Arbeena was born later, becoming the first in her family to be a US citizen.\\nAt Codeup we take our efforts at inclusivity very seriously. After speaking with Arbeena, we were taught that the term AAPI excludes Desi-American individuals. Hence, we will now use the term Asian Pacific Islander Desi American (APIDA).\\nHere is how the rest of our conversation with Arbeena went!\\nHow do you celebrate or connect with your heritage and cultural traditions?\\n“I celebrate Nepal’s version of Christmas or Dashain. This is a nine-day celebration also known as Dussehra. I grew up as Hindu and I identify as Hindu, this is a very large part of my heritage. “\\n“Other ways I connect with my culture include sharing food! Momos are South Asian Dumplings and they’re my favorite to make and share.”\\n“On my Asian American side, I am an advocate of immigrant justice and erasure within APIDA social or political movements. I participate in events to embrace my identity such as immigrant justice advocacy because I come from a mixed-status family. I’ve always been in a community with undocumented Asian immigrants. .”\\nWhat are some of the challenges you have faced as an APIDA individual, personally or professionally?\\n“I often struggle with being gendered as compliant or a pushover. Professionally, I am often stereotyped as meek, so I’ve been overlooked for leadership roles. We are seen as perpetually foreign; people tend to other us in that way, yet put us on a pedestal for what a model minority looks like. This has made me hesitant to share my heritage in the past because these assumptions get mapped onto me. ”\\nCan you describe some common barriers of entry that APIDA individuals, specifically women may face when trying to enter or advance in the workplace?\\n“Being overlooked for leadership. In the past, I have not been viewed as a leader. People sometimes have preconceived stereotypes of Asian women not being able to be bold, or being vocal can be mistaken for being too emotional. “\\nHow do you believe microaggressions impact APIDA individuals in the workplace? Can you provide examples of such microaggressions?\\n“Erasure is big. To me, only saying ‘Merry Christmas’ isn’t inclusive to other religions. People are often resistant to saying ‘Happy Holidays,’ but saying Merry Christmas excludes, and does not appreciate my heritage. “\\n“Often microaggressions are not micro at all. They typically are not aggressive racialized violence, but the term ‘micro’ minimizes impact.”\\n“Some that I’ve heard are ‘What kind of Asian are you?’ or ‘Where are you from?’ This automatically makes me the ‘other’ and not seen as American. Even within the APIDA community, South Asians are overlooked as “Asian”.”\\nHow important is representation, specifically APIDA representation, in organizational leadership positions?\\n“I want to say that it is important to have someone who looks like you in leadership roles, and it is, but those leaders may not share the same beliefs as you. Certain privileges such as wealth, resources, or lack of interaction with lower-socioeconomic-status Asian Americans may cause a difference in community politics. I do not think the bamboo ceiling is acceptable, but the company you work for plays a big part in your politics and belief alignment.”\\nHow do you feel about code-switching, and have you ever felt it necessary to code-switch?\\n“I like sharing South Asian terms or connecting with others that have similar heritage and culture. A workplace that is welcoming to going into this sort of breakout is refreshing and makes space for us. However, having to code-switch could also mean a workplace that is not conducive and welcoming of other cultures. “\\nFinally, in your opinion, what long-term strategies can create lasting change in the workplace and ensure support, equality, and inclusion for APIDA individuals?\\n“Prior to a career in financial aid, I did a lot of research related to the post-9/11 immigration of the South Asian diaspora. This background made me heavily rely on grassroots organizing. Hire the people that want to innovate, hire the changemakers, hire the button-pushers. Reduce reliance on whiteness as change. This will become natural for the organization and become organizational change. Change comes from us on the ground.”\\nA huge thank you to Arbeena Thapa for sharing her experiences, and being vulnerable with us. Your words were inspiring and the opportunity to understand your perspective more has been valuable. We hope we can become better support for the APIDA community as we learn and grow on our journey of cultivating inclusive growth.'},\n",
       " {'title': 'Women in tech: Panelist Spotlight – Magdalena Rahn',\n",
       "  'content': 'Women in tech: Panelist Spotlight – Magdalena Rahn\\nCodeup is hosting a Women in Tech Panel in honor of Women’s History Month on March 29th, 2023! To further celebrate, we’d like to spotlight each of our panelists leading up to the discussion to learn a bit about their respective experiences as women in the tech industry!\\n\\nMeet Magdalena!\\nMagdalena Rahn is a current Codeup student in a Data Science cohort in San Antonio, Texas. She has a professional background in cross-cultural communications, international business development, the wine industry and journalism. After serving in the US Navy, she decided to complement her professional skill set by attending the Data Science program at Codeup; she is set to graduate in March 2023. Magdalena is fluent in French, Bulgarian, Chinese-Mandarin, Spanish and Italian.\\nWe asked Magdalena how Codeup impacted her career, and she replied “Codeup has provided a solid foundation in analytical processes, programming and data science methods, and it’s been an encouragement to have such supportive instructors and wonderful classmates.”\\nDon’t forget to tune in on March 29th to sit in on an insightful conversation with Magdalena.'},\n",
       " {'title': 'Women in tech: Panelist Spotlight – Rachel Robbins-Mayhill',\n",
       "  'content': 'Women in tech: Panelist Spotlight – Rachel Robbins-Mayhill\\nCodeup is hosting a Women in Tech Panel in honor of Women’s History Month on March 29th, 2023! To further celebrate, we’d like to spotlight each of our panelists leading up to the discussion to learn a bit about their respective experiences as women in the tech industry! Meet Rachel!\\n\\nRachel Robbins-Mayhill is a Decision Science Analyst I in San Antonio, Texas. Rachel has had a varied career that includes counseling, teaching, training, community development, and military operations. Her focus has always been on assessing needs, identifying solutions, and educating individuals and groups on aligning needs and solutions in different contexts. Rachel’s passion for data science stems from her belief that data is a powerful tool for communicating patterns that can lead to hope and growth in the future.\\nIn June 2022, Rachel graduated from Codeup’s Innis cohort, where she honed her skills in data science. Shortly after, she started working as a Data Science Technical Writer with Apex Systems as a Contractor for USAA in July 2022. Her unconventional role allowed her to understand where her skills could be best utilized to support USAA in a non-contract role.\\nRachel recently joined USAA’s Data Science Delivery team as a Decision Science Analyst I in February 2023. The team is focused on delivering machine learning models for fraud prevention, and Rachel’s particular role centers around providing strategic process solutions for the team in collaboration with Operational and Model Risk components.\\nIn addition to her career, Rachel is currently pursuing a master’s degree in Applied Data Science from Syracuse University, further expanding her knowledge and skills in the field. Rachel is passionate about collaborating with individuals who share her belief in the potential of others and strive to achieve growth through logical, informed action. She welcomes LinkedIn connections and is excited about supporting the network of CodeUp alumni!\\nWe asked Rachel how Codeup impacted her career, and she replied “Codeup delivered a comprehensive education in all facets of the data science pipeline, laying a strong foundation for me to build upon. Through repeated hands-on practice, I developed a reliable process that was immediately applicable in my job. Collaborative group projects were instrumental in helping me hone my skills in project management, allowing me to navigate complex data science projects with comfortability. Thanks to this invaluable experience, I was able to make significant strides in my career within just six months of graduating from Codeup.”\\nDon’t forget to tune in on March 29th to sit in on an insightful conversation.'},\n",
       " {'title': 'Women in Tech: Panelist Spotlight – Sarah Mellor',\n",
       "  'content': 'Women in tech: Panelist Spotlight – Sarah Mellor\\xa0\\nCodeup is hosting a Women in Tech Panel in honor of Women’s History Month on March 29th, 2023! To further celebrate, we’d like to spotlight each of our panelists leading up to the discussion to learn a bit about their respective experiences as women in the tech industry!\\nMeet Sarah!\\nSarah Mellor currently works as the Director of People Operations. She joined Codeup four and a half years ago as an Admissions Manager. She went on to build out and lead the Marketing and Admissions team, while picking up People Ops tasks and projects here and there until moving over to lead the People Ops team two years ago. Prior to Codeup, she worked at education-focused non-profits in Washington, DC and Boulder, Colorado. She graduated from Wake Forest University.\\nWe asked Sarah how Codeup has impacted her career, and her response was “I have absolutely loved having the privilege to grow alongside Codeup. In my time here across multiple different roles and departments, I’ve seen a lot of change. The consistent things have always been the high quality of passionate and hardworking people I get to work with; the impactful mission we get to work on; and the inspiring students who trust us with their career change.”\\nDon’t forget to tune in on March 29th to sit in on an insightful conversation.'},\n",
       " {'title': 'Women in Tech: Panelist Spotlight – Madeleine Capper',\n",
       "  'content': 'Women in tech: Panelist Spotlight – Madeleine Capper\\nCodeup is hosting a Women in Tech Panel in honor of Women’s History Month on March 29th, 2023! To further celebrate, we’d like to spotlight each of our panelists leading up to the discussion to learn a bit about their respective experiences as women in the tech industry!\\nMeet Madeleine!\\nMadeleine Capper is a Data Scientist in San Antonio, Texas. A long-standing San Antonio resident, she studied mathematics at the University of Texas San Antonio and has worked as a Data Scientist for Booz Allen Hamilton. Madeleine currently teaches Data Science at Codeup, where she works daily with burgeoning data professionals to help them actualize their career aspirations through technical education.\\nMadeleine attended Codeup as a student in early 2019 as a pupil in the very first Codeup Data Science cohort. The program proved immediately effective and she was the first student to obtain a data career out of the program. After working at Booz Allen Hamilton, Madeleine’s passion for education in conjunction with her appreciation for Codeup’s capacity for transformative life change brought her back to the institution in an instructional capacity, where she has been teaching for two years.\\nDon’t forget to tune in on March 29th to sit in on an insightful conversation.'}]"
      ]
     },
     "execution_count": 13,
     "metadata": {},
     "output_type": "execute_result"
    }
   ],
   "source": [
    "articles[0:5]"
   ]
  },
  {
   "cell_type": "markdown",
   "id": "ce2d5b03-9208-4a17-9ef4-42cde93e6e06",
   "metadata": {},
   "source": [
    "### Put in df"
   ]
  },
  {
   "cell_type": "code",
   "execution_count": 14,
   "id": "a13cd2b4-3c17-4c0a-adab-1e40a578c280",
   "metadata": {},
   "outputs": [
    {
     "data": {
      "text/html": [
       "<div>\n",
       "<style scoped>\n",
       "    .dataframe tbody tr th:only-of-type {\n",
       "        vertical-align: middle;\n",
       "    }\n",
       "\n",
       "    .dataframe tbody tr th {\n",
       "        vertical-align: top;\n",
       "    }\n",
       "\n",
       "    .dataframe thead th {\n",
       "        text-align: right;\n",
       "    }\n",
       "</style>\n",
       "<table border=\"1\" class=\"dataframe\">\n",
       "  <thead>\n",
       "    <tr style=\"text-align: right;\">\n",
       "      <th></th>\n",
       "      <th>title</th>\n",
       "      <th>content</th>\n",
       "    </tr>\n",
       "  </thead>\n",
       "  <tbody>\n",
       "    <tr>\n",
       "      <th>0</th>\n",
       "      <td>Spotlight on APIDA Voices: Celebrating Heritag...</td>\n",
       "      <td>May is traditionally known as Asian American a...</td>\n",
       "    </tr>\n",
       "    <tr>\n",
       "      <th>1</th>\n",
       "      <td>Women in tech: Panelist Spotlight – Magdalena ...</td>\n",
       "      <td>Women in tech: Panelist Spotlight – Magdalena ...</td>\n",
       "    </tr>\n",
       "    <tr>\n",
       "      <th>2</th>\n",
       "      <td>Women in tech: Panelist Spotlight – Rachel Rob...</td>\n",
       "      <td>Women in tech: Panelist Spotlight – Rachel Rob...</td>\n",
       "    </tr>\n",
       "    <tr>\n",
       "      <th>3</th>\n",
       "      <td>Women in Tech: Panelist Spotlight – Sarah Mellor</td>\n",
       "      <td>Women in tech: Panelist Spotlight – Sarah Mell...</td>\n",
       "    </tr>\n",
       "    <tr>\n",
       "      <th>4</th>\n",
       "      <td>Women in Tech: Panelist Spotlight – Madeleine ...</td>\n",
       "      <td>Women in tech: Panelist Spotlight – Madeleine ...</td>\n",
       "    </tr>\n",
       "    <tr>\n",
       "      <th>5</th>\n",
       "      <td>Black Excellence in Tech: Panelist Spotlight –...</td>\n",
       "      <td>Black excellence in tech: Panelist Spotlight –...</td>\n",
       "    </tr>\n",
       "  </tbody>\n",
       "</table>\n",
       "</div>"
      ],
      "text/plain": [
       "                                               title  \\\n",
       "0  Spotlight on APIDA Voices: Celebrating Heritag...   \n",
       "1  Women in tech: Panelist Spotlight – Magdalena ...   \n",
       "2  Women in tech: Panelist Spotlight – Rachel Rob...   \n",
       "3   Women in Tech: Panelist Spotlight – Sarah Mellor   \n",
       "4  Women in Tech: Panelist Spotlight – Madeleine ...   \n",
       "5  Black Excellence in Tech: Panelist Spotlight –...   \n",
       "\n",
       "                                             content  \n",
       "0  May is traditionally known as Asian American a...  \n",
       "1  Women in tech: Panelist Spotlight – Magdalena ...  \n",
       "2  Women in tech: Panelist Spotlight – Rachel Rob...  \n",
       "3  Women in tech: Panelist Spotlight – Sarah Mell...  \n",
       "4  Women in tech: Panelist Spotlight – Madeleine ...  \n",
       "5  Black excellence in tech: Panelist Spotlight –...  "
      ]
     },
     "execution_count": 14,
     "metadata": {},
     "output_type": "execute_result"
    }
   ],
   "source": [
    "blog_article_df = pd.DataFrame(articles)\n",
    "blog_article_df"
   ]
  },
  {
   "cell_type": "code",
   "execution_count": 15,
   "id": "ac91ae3a-cf01-49c0-bd48-679aa8b17853",
   "metadata": {},
   "outputs": [],
   "source": [
    "blog_article_df.to_csv('blog_articles.csv', index=False)"
   ]
  },
  {
   "cell_type": "markdown",
   "id": "bca4f940-a4d0-4137-a50d-eb2cdc33d2bb",
   "metadata": {},
   "source": [
    "## News Articles\n",
    "\n",
    "We will now be scraping text data from inshorts, a website that provides a brief overview of many different topics.\n",
    "\n",
    "Write a function that scrapes the news articles for the following topics:\n",
    "\n",
    "* Business\n",
    "* Sports\n",
    "* Technology\n",
    "* Entertainment\n",
    "\n",
    "The end product of this should be a function named get_news_articles that returns a list of dictionaries, where each dictionary has this shape:\n",
    "\n",
    "```python\n",
    "{\n",
    "    'title': 'The article title',\n",
    "    'content': 'The article content',\n",
    "    'category': 'business' # for example\n",
    "}\n",
    "```"
   ]
  },
  {
   "cell_type": "code",
   "execution_count": 16,
   "id": "ba22e38e-028b-4597-a814-8421d44c04fa",
   "metadata": {},
   "outputs": [],
   "source": [
    "url = 'https://inshorts.com/en/read'\n",
    "response = get(url)\n",
    "soup = BeautifulSoup(response.content, 'html.parser')"
   ]
  },
  {
   "cell_type": "markdown",
   "id": "9d546e96-5e96-488a-baff-54180c946cd6",
   "metadata": {},
   "source": [
    "### Get title"
   ]
  },
  {
   "cell_type": "code",
   "execution_count": 17,
   "id": "a06b3db9-f5b1-401c-9f56-bddb9128129e",
   "metadata": {},
   "outputs": [
    {
     "data": {
      "text/plain": [
       "'Sulabh founder Bindeshwar Pathak passes away'"
      ]
     },
     "execution_count": 17,
     "metadata": {},
     "output_type": "execute_result"
    }
   ],
   "source": [
    "soup.find_all('span', itemprop='headline')[0].text"
   ]
  },
  {
   "cell_type": "markdown",
   "id": "f3e5e660-8128-47f3-9cdd-1abdce0c8455",
   "metadata": {},
   "source": [
    "### Get content"
   ]
  },
  {
   "cell_type": "code",
   "execution_count": 18,
   "id": "1c47f771-a85f-41b8-be8c-bf035793fefd",
   "metadata": {},
   "outputs": [
    {
     "data": {
      "text/plain": [
       "'Sulabh founder Bindeshwar Pathak has passed away at a hospital in Delhi. Pathak was known around the world for his wide ranging work in the sanitation field to improve public health, advance social progress, and improve human rights. He established the Sulabh Sanitation Movement in 1970.'"
      ]
     },
     "execution_count": 18,
     "metadata": {},
     "output_type": "execute_result"
    }
   ],
   "source": [
    "soup.find_all('div', itemprop='articleBody')[0].text"
   ]
  },
  {
   "cell_type": "markdown",
   "id": "cebdf687-de01-4990-b279-bc0ee72e4252",
   "metadata": {},
   "source": [
    "### Put it together"
   ]
  },
  {
   "cell_type": "code",
   "execution_count": 20,
   "id": "4e7577cc-c938-462d-bc1d-9ba7e32bb7c1",
   "metadata": {},
   "outputs": [],
   "source": [
    "categories = ['business', 'sports', 'technology', 'entertainment']\n",
    "\n",
    "inshorts = []\n",
    "\n",
    "for category in categories:\n",
    "    \n",
    "    url = 'https://inshorts.com/en/read' + '/' + category\n",
    "    response = get(url)\n",
    "    soup = BeautifulSoup(response.content, 'html.parser')\n",
    "    \n",
    "    titles = [span.text for span in soup.find_all('span', itemprop='headline')]\n",
    "    contents = [div.text for div in soup.find_all('div', itemprop='articleBody')]\n",
    "    \n",
    "    for i in range(len(titles)):\n",
    "        \n",
    "        article = {\n",
    "            'title': titles[i],\n",
    "            'content': contents[i],\n",
    "            'category': category,\n",
    "        }\n",
    "        \n",
    "        inshorts.append(article)"
   ]
  },
  {
   "cell_type": "code",
   "execution_count": 21,
   "id": "781be619-772a-4a1f-8052-dcd940cfdf62",
   "metadata": {},
   "outputs": [
    {
     "data": {
      "text/plain": [
       "[{'title': 'Cybersecurity firm Secureworks to lay off 15% of its workforce',\n",
       "  'content': \"Secureworks said it will lay off 15% of its workforce. The cybersecurity firm said it would incur about $14.2 million in expenses due to the layoffs, mostly related to employee termination benefits and real-estate costs. This would be Secureworks' second round of layoffs after 9% workforce reduction in February. Secureworks said the departing employees' last day will be August 25.\\n\",\n",
       "  'category': 'business'},\n",
       " {'title': 'UK basic wage growth hits record high of 7.8%',\n",
       "  'content': 'Basic wages in UK hit a new record growth rate of 7.8% fuelling forecasts that the Bank of England will be forced to raise interest rates again to calm inflation. Official data showed some fresh signs of cooling in the jobs market with the unemployment rate rising to 4.2% from 4%, the highest since the three months to October 2021.',\n",
       "  'category': 'business'},\n",
       " {'title': 'Nigeria inflation rises to 18-year high',\n",
       "  'content': \"Nigeria's annual inflation rose to its highest level in 18 years in July at 24.08% against 22.79% in June. Food inflation rose to 26.98% in July from 25.25% in June. Nigeria's inflation has been in double digits since 2016, eroding savings and incomes and prompting the central bank to hike interest rates to their highest level in nearly two decades.\\n\",\n",
       "  'category': 'business'},\n",
       " {'title': 'Gangwal to sell IndiGo stake worth $450 mn via block deal: Report',\n",
       "  'content': 'Indigo airline promoter Gangwal family led by Rakesh Gangwal is likely to sell shares worth $450 million (₹3,730 crore) on Wednesday through a block deal, the biggest yet, Moneycontrol reported. In September 2022, the family sold a tranche of 2.8% worth ₹2,000 crore and in February, sold a 4% stake for ₹2,900 crore. The family now holds a 29.72% stake. \\n',\n",
       "  'category': 'business'},\n",
       " {'title': \"No proposal to restrict more electronics' imports: Commerce Secy\",\n",
       "  'content': 'There\\'s no proposal at present to impose import restrictions on more electronics goods, Commerce Secretary Sunil Barthwal said. \"We don\\'t want ourselves to be dependent upon very few sources of imports...So what we\\'re doing, we\\'re evaluating the position in consultation with various ministries. We\\'re looking at trends but there\\'s nothing in the offing as of now,\" Barthwal said.',\n",
       "  'category': 'business'}]"
      ]
     },
     "execution_count": 21,
     "metadata": {},
     "output_type": "execute_result"
    }
   ],
   "source": [
    "inshorts[0:5]"
   ]
  },
  {
   "cell_type": "code",
   "execution_count": 22,
   "id": "c53d2b05-8767-40a6-bdbc-a487f111b144",
   "metadata": {},
   "outputs": [
    {
     "data": {
      "text/html": [
       "<div>\n",
       "<style scoped>\n",
       "    .dataframe tbody tr th:only-of-type {\n",
       "        vertical-align: middle;\n",
       "    }\n",
       "\n",
       "    .dataframe tbody tr th {\n",
       "        vertical-align: top;\n",
       "    }\n",
       "\n",
       "    .dataframe thead th {\n",
       "        text-align: right;\n",
       "    }\n",
       "</style>\n",
       "<table border=\"1\" class=\"dataframe\">\n",
       "  <thead>\n",
       "    <tr style=\"text-align: right;\">\n",
       "      <th></th>\n",
       "      <th>title</th>\n",
       "      <th>content</th>\n",
       "      <th>category</th>\n",
       "    </tr>\n",
       "  </thead>\n",
       "  <tbody>\n",
       "    <tr>\n",
       "      <th>0</th>\n",
       "      <td>Cybersecurity firm Secureworks to lay off 15% ...</td>\n",
       "      <td>Secureworks said it will lay off 15% of its wo...</td>\n",
       "      <td>business</td>\n",
       "    </tr>\n",
       "    <tr>\n",
       "      <th>1</th>\n",
       "      <td>UK basic wage growth hits record high of 7.8%</td>\n",
       "      <td>Basic wages in UK hit a new record growth rate...</td>\n",
       "      <td>business</td>\n",
       "    </tr>\n",
       "    <tr>\n",
       "      <th>2</th>\n",
       "      <td>Nigeria inflation rises to 18-year high</td>\n",
       "      <td>Nigeria's annual inflation rose to its highest...</td>\n",
       "      <td>business</td>\n",
       "    </tr>\n",
       "    <tr>\n",
       "      <th>3</th>\n",
       "      <td>Gangwal to sell IndiGo stake worth $450 mn via...</td>\n",
       "      <td>Indigo airline promoter Gangwal family led by ...</td>\n",
       "      <td>business</td>\n",
       "    </tr>\n",
       "    <tr>\n",
       "      <th>4</th>\n",
       "      <td>No proposal to restrict more electronics' impo...</td>\n",
       "      <td>There's no proposal at present to impose impor...</td>\n",
       "      <td>business</td>\n",
       "    </tr>\n",
       "    <tr>\n",
       "      <th>5</th>\n",
       "      <td>Infosys, Liberty Global ink $1.6-bn deal to sc...</td>\n",
       "      <td>Infosys and Liberty Global announced a five-ye...</td>\n",
       "      <td>business</td>\n",
       "    </tr>\n",
       "    <tr>\n",
       "      <th>6</th>\n",
       "      <td>Cello World files IPO papers with SEBI to rais...</td>\n",
       "      <td>Household products maker Cello World has filed...</td>\n",
       "      <td>business</td>\n",
       "    </tr>\n",
       "    <tr>\n",
       "      <th>7</th>\n",
       "      <td>Binance files for protective order against US SEC</td>\n",
       "      <td>Binance filed for a protective court order aga...</td>\n",
       "      <td>business</td>\n",
       "    </tr>\n",
       "    <tr>\n",
       "      <th>8</th>\n",
       "      <td>India taking part in global economy brought st...</td>\n",
       "      <td>Prime Minister Narendra Modi said India's part...</td>\n",
       "      <td>business</td>\n",
       "    </tr>\n",
       "    <tr>\n",
       "      <th>9</th>\n",
       "      <td>Michael Burry's Scion exits Alibaba, JD.com st...</td>\n",
       "      <td>Michael Burry's Scion Asset Management exited ...</td>\n",
       "      <td>business</td>\n",
       "    </tr>\n",
       "    <tr>\n",
       "      <th>10</th>\n",
       "      <td>Paper I've been reading since childhood now po...</td>\n",
       "      <td>Ex-India captain Virat Kohli took to his Insta...</td>\n",
       "      <td>sports</td>\n",
       "    </tr>\n",
       "    <tr>\n",
       "      <th>11</th>\n",
       "      <td>It hurt a lot: Cummins on his wrist injury dur...</td>\n",
       "      <td>Discussing the wrist injury he suffered during...</td>\n",
       "      <td>sports</td>\n",
       "    </tr>\n",
       "    <tr>\n",
       "      <th>12</th>\n",
       "      <td>Very delighted for Shaw who's seen plenty of u...</td>\n",
       "      <td>India all-rounder Ravichandran Ashwin said he ...</td>\n",
       "      <td>sports</td>\n",
       "    </tr>\n",
       "    <tr>\n",
       "      <th>13</th>\n",
       "      <td>Some viewers were more interested in WPL than ...</td>\n",
       "      <td>India captain Harmanpreet Kaur said the 2023 W...</td>\n",
       "      <td>sports</td>\n",
       "    </tr>\n",
       "    <tr>\n",
       "      <th>14</th>\n",
       "      <td>Chris Woakes, Ashleigh Gardner named ICC Playe...</td>\n",
       "      <td>England fast bowler Chris Woakes and Australia...</td>\n",
       "      <td>sports</td>\n",
       "    </tr>\n",
       "    <tr>\n",
       "      <th>15</th>\n",
       "      <td>MS Dhoni hoists Tricolour at his farmhouse in ...</td>\n",
       "      <td>Former Team India captain Mahendra Singh Dhoni...</td>\n",
       "      <td>sports</td>\n",
       "    </tr>\n",
       "    <tr>\n",
       "      <th>16</th>\n",
       "      <td>Rishabh Pant says 'Do not miss enjoyment in li...</td>\n",
       "      <td>A video of Rishabh Pant's speech on Independen...</td>\n",
       "      <td>sports</td>\n",
       "    </tr>\n",
       "    <tr>\n",
       "      <th>17</th>\n",
       "      <td>Sciver-Brunt 1st woman to hit 4 straight sixes...</td>\n",
       "      <td>English all-rounder Nat Sciver-Brunt became th...</td>\n",
       "      <td>sports</td>\n",
       "    </tr>\n",
       "    <tr>\n",
       "      <th>18</th>\n",
       "      <td>West Ham cancels deal to sign ex-Utd captain H...</td>\n",
       "      <td>West Ham have reportedly called off their £30 ...</td>\n",
       "      <td>sports</td>\n",
       "    </tr>\n",
       "    <tr>\n",
       "      <th>19</th>\n",
       "      <td>18 yrs since Ponting's 156 which is the knock ...</td>\n",
       "      <td>Ex-Australia captain Ricky Ponting helped Aust...</td>\n",
       "      <td>sports</td>\n",
       "    </tr>\n",
       "    <tr>\n",
       "      <th>20</th>\n",
       "      <td>Cybersecurity firm Secureworks to lay off 15% ...</td>\n",
       "      <td>Secureworks said it will lay off 15% of its wo...</td>\n",
       "      <td>technology</td>\n",
       "    </tr>\n",
       "    <tr>\n",
       "      <th>21</th>\n",
       "      <td>X scales down ad unit generating $100 million ...</td>\n",
       "      <td>X (formerly Twitter) has started depreciating ...</td>\n",
       "      <td>technology</td>\n",
       "    </tr>\n",
       "    <tr>\n",
       "      <th>22</th>\n",
       "      <td>No proposal to restrict more electronics' impo...</td>\n",
       "      <td>There's no proposal at present to impose impor...</td>\n",
       "      <td>technology</td>\n",
       "    </tr>\n",
       "    <tr>\n",
       "      <th>23</th>\n",
       "      <td>Infosys, Liberty Global ink $1.6-bn deal to sc...</td>\n",
       "      <td>Infosys and Liberty Global announced a five-ye...</td>\n",
       "      <td>technology</td>\n",
       "    </tr>\n",
       "    <tr>\n",
       "      <th>24</th>\n",
       "      <td>Sundar Pichai wishes India on I-Day, shares 't...</td>\n",
       "      <td>Google's India-born CEO Sundar Pichai on Tuesd...</td>\n",
       "      <td>technology</td>\n",
       "    </tr>\n",
       "    <tr>\n",
       "      <th>25</th>\n",
       "      <td>Amazon exec running Alexa, Echo to step down a...</td>\n",
       "      <td>Amazon devices head David Limp will step down ...</td>\n",
       "      <td>technology</td>\n",
       "    </tr>\n",
       "    <tr>\n",
       "      <th>26</th>\n",
       "      <td>iPhone 14 series users report battery health i...</td>\n",
       "      <td>Apple's iPhone 14 and iPhone 14 Pro users are ...</td>\n",
       "      <td>technology</td>\n",
       "    </tr>\n",
       "    <tr>\n",
       "      <th>27</th>\n",
       "      <td>PayPal appoints Intuit exec Alex Chriss as new...</td>\n",
       "      <td>PayPal has named software firm Intuit's senior...</td>\n",
       "      <td>technology</td>\n",
       "    </tr>\n",
       "    <tr>\n",
       "      <th>28</th>\n",
       "      <td>India working on 6G launch, task force created...</td>\n",
       "      <td>Addressing the nation on the 77th Independence...</td>\n",
       "      <td>technology</td>\n",
       "    </tr>\n",
       "    <tr>\n",
       "      <th>29</th>\n",
       "      <td>Tier-2, 3 cities' youth are writing India's di...</td>\n",
       "      <td>The youth from Tier-2 and 3 cities are writing...</td>\n",
       "      <td>technology</td>\n",
       "    </tr>\n",
       "    <tr>\n",
       "      <th>30</th>\n",
       "      <td>I'm not good but I've to be: Bruce Willis' wif...</td>\n",
       "      <td>Bruce Willis' wife Emma Heming Willis broke do...</td>\n",
       "      <td>entertainment</td>\n",
       "    </tr>\n",
       "    <tr>\n",
       "      <th>31</th>\n",
       "      <td>Shilpa replies to criticism for wearing shoes ...</td>\n",
       "      <td>Shilpa Shetty responded to criticism after a v...</td>\n",
       "      <td>entertainment</td>\n",
       "    </tr>\n",
       "    <tr>\n",
       "      <th>32</th>\n",
       "      <td>We've nothing left because you left us: Ankita...</td>\n",
       "      <td>Actress Ankita Lokhande, in her latest Instagr...</td>\n",
       "      <td>entertainment</td>\n",
       "    </tr>\n",
       "    <tr>\n",
       "      <th>33</th>\n",
       "      <td>My job is to give a hit to throw Aaliyah a gra...</td>\n",
       "      <td>Anurag Kashyap, talking about his daughter Aal...</td>\n",
       "      <td>entertainment</td>\n",
       "    </tr>\n",
       "    <tr>\n",
       "      <th>34</th>\n",
       "      <td>Had initially said no to the show: 'Bigg Boss ...</td>\n",
       "      <td>'Bigg Boss OTT 2' winner Elvish Yadav revealed...</td>\n",
       "      <td>entertainment</td>\n",
       "    </tr>\n",
       "    <tr>\n",
       "      <th>35</th>\n",
       "      <td>Never crossed my boundary with anyone on Bigg ...</td>\n",
       "      <td>Manisha Rani, who was a part of 'Bigg Boss OTT...</td>\n",
       "      <td>entertainment</td>\n",
       "    </tr>\n",
       "    <tr>\n",
       "      <th>36</th>\n",
       "      <td>Shah Rukh Khan hoists tricolour at Mannat; sha...</td>\n",
       "      <td>Actor Shah Rukh Khan hoisted the tricolour at ...</td>\n",
       "      <td>entertainment</td>\n",
       "    </tr>\n",
       "    <tr>\n",
       "      <th>37</th>\n",
       "      <td>Margot Robbie expected to earn ₹416 crore thro...</td>\n",
       "      <td>According to Variety, actress Margot Robbie is...</td>\n",
       "      <td>entertainment</td>\n",
       "    </tr>\n",
       "    <tr>\n",
       "      <th>38</th>\n",
       "      <td>I told myself I look ugly &amp; nobody would look ...</td>\n",
       "      <td>Dolly Singh said she always wanted to become a...</td>\n",
       "      <td>entertainment</td>\n",
       "    </tr>\n",
       "    <tr>\n",
       "      <th>39</th>\n",
       "      <td>Most men can't deal with attraction towards tr...</td>\n",
       "      <td>Trans actress Trinetra Haldar said men objecti...</td>\n",
       "      <td>entertainment</td>\n",
       "    </tr>\n",
       "  </tbody>\n",
       "</table>\n",
       "</div>"
      ],
      "text/plain": [
       "                                                title  \\\n",
       "0   Cybersecurity firm Secureworks to lay off 15% ...   \n",
       "1       UK basic wage growth hits record high of 7.8%   \n",
       "2             Nigeria inflation rises to 18-year high   \n",
       "3   Gangwal to sell IndiGo stake worth $450 mn via...   \n",
       "4   No proposal to restrict more electronics' impo...   \n",
       "5   Infosys, Liberty Global ink $1.6-bn deal to sc...   \n",
       "6   Cello World files IPO papers with SEBI to rais...   \n",
       "7   Binance files for protective order against US SEC   \n",
       "8   India taking part in global economy brought st...   \n",
       "9   Michael Burry's Scion exits Alibaba, JD.com st...   \n",
       "10  Paper I've been reading since childhood now po...   \n",
       "11  It hurt a lot: Cummins on his wrist injury dur...   \n",
       "12  Very delighted for Shaw who's seen plenty of u...   \n",
       "13  Some viewers were more interested in WPL than ...   \n",
       "14  Chris Woakes, Ashleigh Gardner named ICC Playe...   \n",
       "15  MS Dhoni hoists Tricolour at his farmhouse in ...   \n",
       "16  Rishabh Pant says 'Do not miss enjoyment in li...   \n",
       "17  Sciver-Brunt 1st woman to hit 4 straight sixes...   \n",
       "18  West Ham cancels deal to sign ex-Utd captain H...   \n",
       "19  18 yrs since Ponting's 156 which is the knock ...   \n",
       "20  Cybersecurity firm Secureworks to lay off 15% ...   \n",
       "21  X scales down ad unit generating $100 million ...   \n",
       "22  No proposal to restrict more electronics' impo...   \n",
       "23  Infosys, Liberty Global ink $1.6-bn deal to sc...   \n",
       "24  Sundar Pichai wishes India on I-Day, shares 't...   \n",
       "25  Amazon exec running Alexa, Echo to step down a...   \n",
       "26  iPhone 14 series users report battery health i...   \n",
       "27  PayPal appoints Intuit exec Alex Chriss as new...   \n",
       "28  India working on 6G launch, task force created...   \n",
       "29  Tier-2, 3 cities' youth are writing India's di...   \n",
       "30  I'm not good but I've to be: Bruce Willis' wif...   \n",
       "31  Shilpa replies to criticism for wearing shoes ...   \n",
       "32  We've nothing left because you left us: Ankita...   \n",
       "33  My job is to give a hit to throw Aaliyah a gra...   \n",
       "34  Had initially said no to the show: 'Bigg Boss ...   \n",
       "35  Never crossed my boundary with anyone on Bigg ...   \n",
       "36  Shah Rukh Khan hoists tricolour at Mannat; sha...   \n",
       "37  Margot Robbie expected to earn ₹416 crore thro...   \n",
       "38  I told myself I look ugly & nobody would look ...   \n",
       "39  Most men can't deal with attraction towards tr...   \n",
       "\n",
       "                                              content       category  \n",
       "0   Secureworks said it will lay off 15% of its wo...       business  \n",
       "1   Basic wages in UK hit a new record growth rate...       business  \n",
       "2   Nigeria's annual inflation rose to its highest...       business  \n",
       "3   Indigo airline promoter Gangwal family led by ...       business  \n",
       "4   There's no proposal at present to impose impor...       business  \n",
       "5   Infosys and Liberty Global announced a five-ye...       business  \n",
       "6   Household products maker Cello World has filed...       business  \n",
       "7   Binance filed for a protective court order aga...       business  \n",
       "8   Prime Minister Narendra Modi said India's part...       business  \n",
       "9   Michael Burry's Scion Asset Management exited ...       business  \n",
       "10  Ex-India captain Virat Kohli took to his Insta...         sports  \n",
       "11  Discussing the wrist injury he suffered during...         sports  \n",
       "12  India all-rounder Ravichandran Ashwin said he ...         sports  \n",
       "13  India captain Harmanpreet Kaur said the 2023 W...         sports  \n",
       "14  England fast bowler Chris Woakes and Australia...         sports  \n",
       "15  Former Team India captain Mahendra Singh Dhoni...         sports  \n",
       "16  A video of Rishabh Pant's speech on Independen...         sports  \n",
       "17  English all-rounder Nat Sciver-Brunt became th...         sports  \n",
       "18  West Ham have reportedly called off their £30 ...         sports  \n",
       "19  Ex-Australia captain Ricky Ponting helped Aust...         sports  \n",
       "20  Secureworks said it will lay off 15% of its wo...     technology  \n",
       "21  X (formerly Twitter) has started depreciating ...     technology  \n",
       "22  There's no proposal at present to impose impor...     technology  \n",
       "23  Infosys and Liberty Global announced a five-ye...     technology  \n",
       "24  Google's India-born CEO Sundar Pichai on Tuesd...     technology  \n",
       "25  Amazon devices head David Limp will step down ...     technology  \n",
       "26  Apple's iPhone 14 and iPhone 14 Pro users are ...     technology  \n",
       "27  PayPal has named software firm Intuit's senior...     technology  \n",
       "28  Addressing the nation on the 77th Independence...     technology  \n",
       "29  The youth from Tier-2 and 3 cities are writing...     technology  \n",
       "30  Bruce Willis' wife Emma Heming Willis broke do...  entertainment  \n",
       "31  Shilpa Shetty responded to criticism after a v...  entertainment  \n",
       "32  Actress Ankita Lokhande, in her latest Instagr...  entertainment  \n",
       "33  Anurag Kashyap, talking about his daughter Aal...  entertainment  \n",
       "34  'Bigg Boss OTT 2' winner Elvish Yadav revealed...  entertainment  \n",
       "35  Manisha Rani, who was a part of 'Bigg Boss OTT...  entertainment  \n",
       "36  Actor Shah Rukh Khan hoisted the tricolour at ...  entertainment  \n",
       "37  According to Variety, actress Margot Robbie is...  entertainment  \n",
       "38  Dolly Singh said she always wanted to become a...  entertainment  \n",
       "39  Trans actress Trinetra Haldar said men objecti...  entertainment  "
      ]
     },
     "execution_count": 22,
     "metadata": {},
     "output_type": "execute_result"
    }
   ],
   "source": [
    "inshorts_article_df = pd.DataFrame(inshorts)\n",
    "inshorts_article_df"
   ]
  },
  {
   "cell_type": "code",
   "execution_count": 23,
   "id": "e0b03928-df3b-4fd6-b435-633a89675a7e",
   "metadata": {},
   "outputs": [],
   "source": [
    "inshorts_article_df.to_csv('news_articles.csv', index=False)"
   ]
  },
  {
   "cell_type": "code",
   "execution_count": 35,
   "id": "1e7513c7",
   "metadata": {},
   "outputs": [
    {
     "data": {
      "text/plain": [
       "[]"
      ]
     },
     "execution_count": 35,
     "metadata": {},
     "output_type": "execute_result"
    }
   ],
   "source": [
    "soup.find_all('div', class_='QqxB5Ed9A73reHbF2fQC')"
   ]
  },
  {
   "cell_type": "code",
   "execution_count": null,
   "id": "ed60d862",
   "metadata": {},
   "outputs": [],
   "source": []
  }
 ],
 "metadata": {
  "kernelspec": {
   "display_name": "Python 3 (ipykernel)",
   "language": "python",
   "name": "python3"
  },
  "language_info": {
   "codemirror_mode": {
    "name": "ipython",
    "version": 3
   },
   "file_extension": ".py",
   "mimetype": "text/x-python",
   "name": "python",
   "nbconvert_exporter": "python",
   "pygments_lexer": "ipython3",
   "version": "3.9.12"
  }
 },
 "nbformat": 4,
 "nbformat_minor": 5
}
